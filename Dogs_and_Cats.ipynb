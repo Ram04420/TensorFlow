{
  "nbformat": 4,
  "nbformat_minor": 0,
  "metadata": {
    "colab": {
      "name": "Dogs and Cats.ipynb",
      "provenance": [],
      "collapsed_sections": [],
      "authorship_tag": "ABX9TyNEv9rBJW7trlj3dekaAUxd",
      "include_colab_link": true
    },
    "kernelspec": {
      "name": "python3",
      "display_name": "Python 3"
    },
    "accelerator": "TPU"
  },
  "cells": [
    {
      "cell_type": "markdown",
      "metadata": {
        "id": "view-in-github",
        "colab_type": "text"
      },
      "source": [
        "<a href=\"https://colab.research.google.com/github/Ram04420/TensorFlow/blob/master/Dogs_and_Cats.ipynb\" target=\"_parent\"><img src=\"https://colab.research.google.com/assets/colab-badge.svg\" alt=\"Open In Colab\"/></a>"
      ]
    },
    {
      "cell_type": "code",
      "metadata": {
        "id": "eh6r9u9GA3UT",
        "colab_type": "code",
        "colab": {}
      },
      "source": [
        "#!mkdir -p ~/.kaggle\n",
        "#!cp kaggle.json ~/.kaggle/\n",
        "#!chmod 600 ~/.kaggle/kaggle.json\n",
        "#!kaggle competitions download -c dogs-vs-cats\n",
        "#!pip install --upgrade kaggle\n",
        "#!pip install -q kaggle\n",
        "#!kaggle -v\n",
        "#!pip install --upgrade --force-reinstall --no-deps kaggle"
      ],
      "execution_count": 0,
      "outputs": []
    },
    {
      "cell_type": "code",
      "metadata": {
        "id": "EXtGDwFgBKgb",
        "colab_type": "code",
        "colab": {}
      },
      "source": [
        "import tensorflow as tf\n",
        "from tensorflow import keras\n",
        "from tensorflow.keras import Sequential\n",
        "from tensorflow.keras.layers import Flatten, Dense, Dropout, Conv2D, MaxPool2D, ZeroPadding2D, BatchNormalization\n",
        "from tensorflow.keras.preprocessing.image import ImageDataGenerator\n",
        "\n",
        "from tensorflow.keras.optimizers import SGD"
      ],
      "execution_count": 0,
      "outputs": []
    },
    {
      "cell_type": "code",
      "metadata": {
        "id": "T0ExeboeCHrF",
        "colab_type": "code",
        "colab": {}
      },
      "source": [
        "import numpy as np\n",
        "import pandas as pd\n",
        "import matplotlib.pyplot as plt\n",
        "import matplotlib"
      ],
      "execution_count": 0,
      "outputs": []
    },
    {
      "cell_type": "code",
      "metadata": {
        "id": "AHoo-bsTDKP5",
        "colab_type": "code",
        "colab": {
          "base_uri": "https://localhost:8080/",
          "height": 34
        },
        "outputId": "f063cb82-37e1-4c3a-d1e5-0d3f80a5195a"
      },
      "source": [
        "!git clone https://github.com/laxmimerit/dog-cat-full-dataset.git"
      ],
      "execution_count": 42,
      "outputs": [
        {
          "output_type": "stream",
          "text": [
            "fatal: destination path 'dog-cat-full-dataset' already exists and is not an empty directory.\n"
          ],
          "name": "stdout"
        }
      ]
    },
    {
      "cell_type": "code",
      "metadata": {
        "id": "anlLvUNQEqQI",
        "colab_type": "code",
        "colab": {}
      },
      "source": [
        "test_data_dir = '/content/dog-cat-full-dataset/data/test'\n",
        "train_data_dir = '/content/dog-cat-full-dataset/data/train'"
      ],
      "execution_count": 0,
      "outputs": []
    },
    {
      "cell_type": "code",
      "metadata": {
        "id": "ilD3QGaoErOD",
        "colab_type": "code",
        "colab": {}
      },
      "source": [
        "img_width = 32\n",
        "img_height = 32\n",
        "batch_size = 20"
      ],
      "execution_count": 0,
      "outputs": []
    },
    {
      "cell_type": "code",
      "metadata": {
        "id": "bYdPb6GNH0_U",
        "colab_type": "code",
        "colab": {}
      },
      "source": [
        "datagen = ImageDataGenerator(rescale=1./255)"
      ],
      "execution_count": 0,
      "outputs": []
    },
    {
      "cell_type": "code",
      "metadata": {
        "id": "_gF457ezH-ER",
        "colab_type": "code",
        "colab": {
          "base_uri": "https://localhost:8080/",
          "height": 34
        },
        "outputId": "dad35188-ced7-4374-b9d5-e516e3dbc593"
      },
      "source": [
        "train_genrator = datagen.flow_from_directory(directory= train_data_dir,\n",
        "                                             target_size = (img_width, img_height),\n",
        "                                             class_mode = 'binary',\n",
        "                                             classes = ['dogs', 'cats'],\n",
        "                                             batch_size = batch_size)"
      ],
      "execution_count": 46,
      "outputs": [
        {
          "output_type": "stream",
          "text": [
            "Found 20000 images belonging to 2 classes.\n"
          ],
          "name": "stdout"
        }
      ]
    },
    {
      "cell_type": "code",
      "metadata": {
        "id": "nk1H-ViYfSNP",
        "colab_type": "code",
        "colab": {
          "base_uri": "https://localhost:8080/",
          "height": 34
        },
        "outputId": "d471447d-15ec-4d77-f45b-c036e54e2e1b"
      },
      "source": [
        "train_genrator.classes"
      ],
      "execution_count": 47,
      "outputs": [
        {
          "output_type": "execute_result",
          "data": {
            "text/plain": [
              "array([0, 0, 0, ..., 1, 1, 1], dtype=int32)"
            ]
          },
          "metadata": {
            "tags": []
          },
          "execution_count": 47
        }
      ]
    },
    {
      "cell_type": "code",
      "metadata": {
        "id": "M5yCW0SNgGGi",
        "colab_type": "code",
        "colab": {
          "base_uri": "https://localhost:8080/",
          "height": 34
        },
        "outputId": "151110e7-f21d-47ae-92fb-1f58e14bc142"
      },
      "source": [
        "validation_genrator = datagen.flow_from_directory(directory=test_data_dir,\n",
        "                                                  target_size = (32,32),\n",
        "                                                  classes = ['dogs', 'cats'],\n",
        "                                                  class_mode = 'binary',\n",
        "                                                  batch_size = batch_size)"
      ],
      "execution_count": 48,
      "outputs": [
        {
          "output_type": "stream",
          "text": [
            "Found 5000 images belonging to 2 classes.\n"
          ],
          "name": "stdout"
        }
      ]
    },
    {
      "cell_type": "code",
      "metadata": {
        "id": "C1Un6Drhg-cA",
        "colab_type": "code",
        "colab": {
          "base_uri": "https://localhost:8080/",
          "height": 34
        },
        "outputId": "53880b5e-d70f-45e6-9750-2f492976455f"
      },
      "source": [
        "len(train_genrator)*batch_size"
      ],
      "execution_count": 49,
      "outputs": [
        {
          "output_type": "execute_result",
          "data": {
            "text/plain": [
              "20000"
            ]
          },
          "metadata": {
            "tags": []
          },
          "execution_count": 49
        }
      ]
    },
    {
      "cell_type": "markdown",
      "metadata": {
        "id": "mr1RLxCBhe6o",
        "colab_type": "text"
      },
      "source": [
        "**Build CNN base Model**"
      ]
    },
    {
      "cell_type": "code",
      "metadata": {
        "id": "DHa7svb2hW19",
        "colab_type": "code",
        "colab": {}
      },
      "source": [
        "model = Sequential()\n",
        "model.add(Conv2D(filters= 64, kernel_size=(3,3), padding='same', activation='relu', kernel_initializer='he_uniform', input_shape= (img_width, img_height, 3)))\n",
        "model.add(MaxPool2D(2,2))\n",
        "\n",
        "model.add(Flatten())\n",
        "model.add(Dense(128, activation='relu', kernel_initializer='he_uniform'))\n",
        "model.add(Dense(1, activation='sigmoid'))"
      ],
      "execution_count": 0,
      "outputs": []
    },
    {
      "cell_type": "code",
      "metadata": {
        "id": "SOYVVaV0iVas",
        "colab_type": "code",
        "colab": {}
      },
      "source": [
        "opt = SGD(learning_rate=0.01, momentum=0.9)\n",
        "model.compile(optimizer=opt, loss='binary_crossentropy', metrics='accuracy')"
      ],
      "execution_count": 0,
      "outputs": []
    },
    {
      "cell_type": "code",
      "metadata": {
        "id": "iQm_wwlakVCY",
        "colab_type": "code",
        "colab": {
          "base_uri": "https://localhost:8080/",
          "height": 187
        },
        "outputId": "9d18f4fb-8751-42d6-ba3b-7a04187e5043"
      },
      "source": [
        "history = model.fit_generator(generator=train_genrator, steps_per_epoch=len(train_genrator), verbose=1, epochs=5, validation_data=validation_genrator,validation_steps=len(validation_genrator))"
      ],
      "execution_count": 52,
      "outputs": [
        {
          "output_type": "stream",
          "text": [
            "Epoch 1/5\n",
            "1000/1000 [==============================] - 97s 97ms/step - loss: 0.6988 - accuracy: 0.5099 - val_loss: 0.6932 - val_accuracy: 0.5004\n",
            "Epoch 2/5\n",
            "1000/1000 [==============================] - 97s 97ms/step - loss: 0.6935 - accuracy: 0.4997 - val_loss: 0.6930 - val_accuracy: 0.5094\n",
            "Epoch 3/5\n",
            "1000/1000 [==============================] - 99s 99ms/step - loss: 0.6934 - accuracy: 0.5010 - val_loss: 0.6935 - val_accuracy: 0.5004\n",
            "Epoch 4/5\n",
            "1000/1000 [==============================] - 96s 96ms/step - loss: 0.6854 - accuracy: 0.5380 - val_loss: 0.6876 - val_accuracy: 0.5428\n",
            "Epoch 5/5\n",
            "1000/1000 [==============================] - 95s 95ms/step - loss: 0.6323 - accuracy: 0.6409 - val_loss: 0.5681 - val_accuracy: 0.7128\n"
          ],
          "name": "stdout"
        }
      ]
    },
    {
      "cell_type": "code",
      "metadata": {
        "id": "F2AC2oSJn1iA",
        "colab_type": "code",
        "colab": {}
      },
      "source": [
        "\n",
        "def plot_learningCurve(history):\n",
        "  #plot training accuracy values\n",
        "  epoch_range = range(1, 6)\n",
        "  plt.plot(epoch_range, history.history['accuracy'])\n",
        "  plt.plot(epoch_range, history.history['val_accuracy'])\n",
        "  plt.title('model accuracy')\n",
        "  plt.ylabel('accuracy')\n",
        "  plt.xlabel('Epoch')\n",
        "  plt.legend(['Train' , 'val'], loc = 'upper left')\n",
        "  plt.show()\n",
        "  #plot taining loss values\n",
        "  plt.plot(epoch_range, history.history['loss'])\n",
        "  plt.plot(epoch_range, history.history['val_loss'])\n",
        "  plt.title('model loss')\n",
        "  plt.ylabel('Loss')\n",
        "  plt.xlabel('epoch')\n",
        "  plt.legend(['Train', 'val'], loc = 'upper left')\n",
        "  plt.show()\n"
      ],
      "execution_count": 0,
      "outputs": []
    },
    {
      "cell_type": "code",
      "metadata": {
        "id": "A0kBJSxNn2xJ",
        "colab_type": "code",
        "colab": {
          "base_uri": "https://localhost:8080/",
          "height": 573
        },
        "outputId": "5238bb35-46e1-4080-845f-c2166f9e8b8e"
      },
      "source": [
        "plot_learningCurve(history)"
      ],
      "execution_count": 59,
      "outputs": [
        {
          "output_type": "display_data",
          "data": {
            "image/png": "[encoded data removed]",
            "text/plain": [
              "<Figure size 432x288 with 1 Axes>"
            ]
          },
          "metadata": {
            "tags": [],
            "needs_background": "light"
          }
        },
        {
          "output_type": "display_data",
          "data": {
            "image/png": "[encoded data removed]",
            "text/plain": [
              "<Figure size 432x288 with 1 Axes>"
            ]
          },
          "metadata": {
            "tags": [],
            "needs_background": "light"
          }
        }
      ]
    },
    {
      "cell_type": "markdown",
      "metadata": {
        "id": "nDX_KdjTpkgm",
        "colab_type": "text"
      },
      "source": [
        "**Implemation First 3 blocks of VGG16 Model**"
      ]
    },
    {
      "cell_type": "code",
      "metadata": {
        "colab_type": "code",
        "id": "A4AfeHREqcoi",
        "colab": {}
      },
      "source": [
        "model = Sequential()\n",
        "model.add(Conv2D(filters= 64, kernel_size=(3,3), padding='same', activation='relu', kernel_initializer='he_uniform', input_shape= (img_width, img_height, 3)))\n",
        "model.add(MaxPool2D(2,2))\n",
        "\n",
        "\n",
        "model.add(Conv2D(filters= 128, kernel_size=(3,3), padding='same', activation='relu', kernel_initializer='he_uniform'))\n",
        "model.add(MaxPool2D(2,2))\n",
        "\n",
        "\n",
        "model.add(Conv2D(filters= 256, kernel_size=(3,3), padding='same', activation='relu', kernel_initializer='he_uniform'))\n",
        "model.add(MaxPool2D(2,2))\n",
        "\n",
        "model.add(Flatten())\n",
        "model.add(Dense(128, activation='relu', kernel_initializer='he_uniform'))\n",
        "\n",
        "model.add(Dense(1, activation='sigmoid'))"
      ],
      "execution_count": 0,
      "outputs": []
    },
    {
      "cell_type": "code",
      "metadata": {
        "colab_type": "code",
        "id": "J_o8mESUqco1",
        "colab": {}
      },
      "source": [
        "opt = SGD(learning_rate=0.01, momentum=0.9)\n",
        "model.compile(optimizer=opt, loss='binary_crossentropy', metrics='accuracy')"
      ],
      "execution_count": 0,
      "outputs": []
    },
    {
      "cell_type": "code",
      "metadata": {
        "colab_type": "code",
        "outputId": "857d589b-10c5-4d6d-fd78-c5de1f604ba9",
        "id": "PfyYrGXcqcpC",
        "colab": {
          "base_uri": "https://localhost:8080/",
          "height": 187
        }
      },
      "source": [
        "history = model.fit_generator(generator=train_genrator, steps_per_epoch=len(train_genrator), verbose=1, epochs=5, validation_data=validation_genrator,validation_steps=len(validation_genrator))"
      ],
      "execution_count": 63,
      "outputs": [
        {
          "output_type": "stream",
          "text": [
            "Epoch 1/5\n",
            "1000/1000 [==============================] - 201s 201ms/step - loss: 0.6195 - accuracy: 0.6493 - val_loss: 0.6005 - val_accuracy: 0.6822\n",
            "Epoch 2/5\n",
            "1000/1000 [==============================] - 199s 199ms/step - loss: 0.5086 - accuracy: 0.7523 - val_loss: 0.5164 - val_accuracy: 0.7420\n",
            "Epoch 3/5\n",
            "1000/1000 [==============================] - 201s 201ms/step - loss: 0.4523 - accuracy: 0.7918 - val_loss: 0.4775 - val_accuracy: 0.7706\n",
            "Epoch 4/5\n",
            "1000/1000 [==============================] - 204s 204ms/step - loss: 0.4048 - accuracy: 0.8138 - val_loss: 0.4556 - val_accuracy: 0.7840\n",
            "Epoch 5/5\n",
            "1000/1000 [==============================] - 200s 200ms/step - loss: 0.3664 - accuracy: 0.8360 - val_loss: 0.4581 - val_accuracy: 0.7790\n"
          ],
          "name": "stdout"
        }
      ]
    },
    {
      "cell_type": "markdown",
      "metadata": {
        "id": "Dr7OLl_sr32t",
        "colab_type": "text"
      },
      "source": [
        "**Batch Noramlization and DropOut**"
      ]
    },
    {
      "cell_type": "code",
      "metadata": {
        "colab_type": "code",
        "id": "XBlTPaHjsAjH",
        "colab": {}
      },
      "source": [
        "model = Sequential()\n",
        "model.add(Conv2D(filters= 64, kernel_size=(3,3), padding='same', activation='relu', kernel_initializer='he_uniform', input_shape= (img_width, img_height, 3)))\n",
        "model.add(BatchNormalization())\n",
        "model.add(MaxPool2D(2,2))\n",
        "model.add(Dropout(0.2))\n",
        "\n",
        "\n",
        "\n",
        "model.add(Conv2D(filters= 128, kernel_size=(3,3), padding='same', activation='relu', kernel_initializer='he_uniform'))\n",
        "model.add(BatchNormalization())\n",
        "model.add(MaxPool2D(2,2))\n",
        "model.add(Dropout(0.3))\n",
        "\n",
        "\n",
        "model.add(Conv2D(filters= 256, kernel_size=(3,3), padding='same', activation='relu', kernel_initializer='he_uniform'))\n",
        "model.add(BatchNormalization())\n",
        "model.add(MaxPool2D(2,2))\n",
        "model.add(Dropout(0.5))\n",
        "\n",
        "model.add(Flatten())\n",
        "model.add(Dense(128, activation='relu', kernel_initializer='he_uniform'))\n",
        "model.add(BatchNormalization())\n",
        "model.add(Dropout(0.5))\n",
        "model.add(Dense(1, activation='sigmoid'))"
      ],
      "execution_count": 0,
      "outputs": []
    },
    {
      "cell_type": "code",
      "metadata": {
        "colab_type": "code",
        "id": "bS-8EYScsAja",
        "colab": {}
      },
      "source": [
        "opt = SGD(learning_rate=0.01, momentum=0.9)\n",
        "model.compile(optimizer=opt, loss='binary_crossentropy', metrics='accuracy')"
      ],
      "execution_count": 0,
      "outputs": []
    },
    {
      "cell_type": "code",
      "metadata": {
        "colab_type": "code",
        "outputId": "c63b58e5-2adc-4b6e-ebeb-f1971e10c046",
        "id": "8ku1w29isAjf",
        "colab": {
          "base_uri": "https://localhost:8080/",
          "height": 357
        }
      },
      "source": [
        "history = model.fit_generator(generator=train_genrator, steps_per_epoch=len(train_genrator), verbose=1, epochs=10, validation_data=validation_genrator,validation_steps=len(validation_genrator))"
      ],
      "execution_count": 67,
      "outputs": [
        {
          "output_type": "stream",
          "text": [
            "Epoch 1/10\n",
            "1000/1000 [==============================] - 231s 231ms/step - loss: 0.6765 - accuracy: 0.6265 - val_loss: 0.7585 - val_accuracy: 0.6844\n",
            "Epoch 2/10\n",
            "1000/1000 [==============================] - 227s 227ms/step - loss: 0.5967 - accuracy: 0.6882 - val_loss: 0.6485 - val_accuracy: 0.7348\n",
            "Epoch 3/10\n",
            "1000/1000 [==============================] - 230s 230ms/step - loss: 0.5545 - accuracy: 0.7204 - val_loss: 0.5646 - val_accuracy: 0.7186\n",
            "Epoch 4/10\n",
            "1000/1000 [==============================] - 232s 232ms/step - loss: 0.5148 - accuracy: 0.7476 - val_loss: 0.5210 - val_accuracy: 0.7444\n",
            "Epoch 5/10\n",
            "1000/1000 [==============================] - 231s 231ms/step - loss: 0.4939 - accuracy: 0.7638 - val_loss: 0.5438 - val_accuracy: 0.7238\n",
            "Epoch 6/10\n",
            "1000/1000 [==============================] - 230s 230ms/step - loss: 0.4738 - accuracy: 0.7769 - val_loss: 0.4472 - val_accuracy: 0.7944\n",
            "Epoch 7/10\n",
            "1000/1000 [==============================] - 234s 234ms/step - loss: 0.4558 - accuracy: 0.7879 - val_loss: 0.5105 - val_accuracy: 0.7554\n",
            "Epoch 8/10\n",
            "1000/1000 [==============================] - 226s 226ms/step - loss: 0.4416 - accuracy: 0.7969 - val_loss: 0.5085 - val_accuracy: 0.7488\n",
            "Epoch 9/10\n",
            "1000/1000 [==============================] - 229s 229ms/step - loss: 0.4283 - accuracy: 0.8035 - val_loss: 0.3849 - val_accuracy: 0.8258\n",
            "Epoch 10/10\n",
            "1000/1000 [==============================] - 226s 226ms/step - loss: 0.4194 - accuracy: 0.8105 - val_loss: 0.4207 - val_accuracy: 0.8074\n"
          ],
          "name": "stdout"
        }
      ]
    },
    {
      "cell_type": "code",
      "metadata": {
        "id": "lRFaQo13piLJ",
        "colab_type": "code",
        "colab": {}
      },
      "source": [
        "\n",
        "def plot_learningCurve(history, epoch):\n",
        "  #plot training accuracy values\n",
        "  epoch_range = range(1, epoch+1)\n",
        "  plt.plot(epoch_range, history.history['accuracy'])\n",
        "  plt.plot(epoch_range, history.history['val_accuracy'])\n",
        "  plt.title('model accuracy')\n",
        "  plt.ylabel('accuracy')\n",
        "  plt.xlabel('Epoch')\n",
        "  plt.legend(['Train', 'val'], loc = 'upper left')\n",
        "  plt.show()\n",
        "  #plot taining loss values\n",
        "  plt.plot(epoch_range, history.history['loss'])\n",
        "  plt.plot(epoch_range, history.history['val_loss'])\n",
        "  plt.title('model loss')\n",
        "  plt.ylabel('Loss')\n",
        "  plt.xlabel('epoch')\n",
        "  plt.legend(['Train', 'val'], loc = 'upper left')\n",
        "  plt.show()\n"
      ],
      "execution_count": 0,
      "outputs": []
    },
    {
      "cell_type": "code",
      "metadata": {
        "id": "pPoWU6o4piP6",
        "colab_type": "code",
        "colab": {
          "base_uri": "https://localhost:8080/",
          "height": 573
        },
        "outputId": "14c4770d-464c-4060-d0e5-2758761a0c80"
      },
      "source": [
        "plot_learningCurve(history, 10)"
      ],
      "execution_count": 69,
      "outputs": [
        {
          "output_type": "display_data",
          "data": {
            "image/png": "[encoded data removed]",
            "text/plain": [
              "<Figure size 432x288 with 1 Axes>"
            ]
          },
          "metadata": {
            "tags": [],
            "needs_background": "light"
          }
        },
        {
          "output_type": "display_data",
          "data": {
            "image/png": "[encoded data removed]",
            "text/plain": [
              "<Figure size 432x288 with 1 Axes>"
            ]
          },
          "metadata": {
            "tags": [],
            "needs_background": "light"
          }
        }
      ]
    },
    {
      "cell_type": "code",
      "metadata": {
        "id": "V9AN9rj_piZv",
        "colab_type": "code",
        "colab": {}
      },
      "source": [
        ""
      ],
      "execution_count": 0,
      "outputs": []
    }
  ]
}