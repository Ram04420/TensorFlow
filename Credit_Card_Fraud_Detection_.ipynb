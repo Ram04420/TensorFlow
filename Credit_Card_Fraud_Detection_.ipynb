{
  "nbformat": 4,
  "nbformat_minor": 0,
  "metadata": {
    "colab": {
      "name": "Credit Card Fraud Detection .ipynb",
      "provenance": [],
      "collapsed_sections": [],
      "mount_file_id": "1AVnC8T58JvsnjzH-5cKyQIgn39wvTn8K",
      "authorship_tag": "ABX9TyPBZltaZPuOAdfeM9SQq1Ja",
      "include_colab_link": true
    },
    "kernelspec": {
      "name": "python3",
      "display_name": "Python 3"
    }
  },
  "cells": [
    {
      "cell_type": "markdown",
      "metadata": {
        "id": "view-in-github",
        "colab_type": "text"
      },
      "source": [
        "<a href=\"https://colab.research.google.com/github/Ram04420/TensorFlow/blob/master/Credit_Card_Fraud_Detection_.ipynb\" target=\"_parent\"><img src=\"https://colab.research.google.com/assets/colab-badge.svg\" alt=\"Open In Colab\"/></a>"
      ]
    },
    {
      "cell_type": "code",
      "metadata": {
        "id": "NPnfANGCIcOV",
        "colab_type": "code",
        "colab": {}
      },
      "source": [
        "import tensorflow as tf"
      ],
      "execution_count": 0,
      "outputs": []
    },
    {
      "cell_type": "code",
      "metadata": {
        "id": "RvHV6m7ZI60m",
        "colab_type": "code",
        "colab": {}
      },
      "source": [
        "from tensorflow import keras\n",
        "from tensorflow.keras import Sequential\n",
        "from tensorflow.keras.layers import Flatten, Dense, MaxPool1D, BatchNormalization, Conv1D,Dropout\n",
        "from tensorflow.keras.optimizers import Adam"
      ],
      "execution_count": 0,
      "outputs": []
    },
    {
      "cell_type": "code",
      "metadata": {
        "id": "LvH_UVzKJfDi",
        "colab_type": "code",
        "colab": {
          "base_uri": "https://localhost:8080/",
          "height": 71
        },
        "outputId": "92e1ff9d-6cd2-4fd4-f259-e39c21806a2f"
      },
      "source": [
        "import pandas as pd\n",
        "import numpy as np\n",
        "import matplotlib.pyplot as plt\n",
        "import seaborn as sns\n",
        "from sklearn.model_selection import train_test_split\n",
        "from sklearn.preprocessing import StandardScaler"
      ],
      "execution_count": 3,
      "outputs": [
        {
          "output_type": "stream",
          "text": [
            "/usr/local/lib/python3.6/dist-packages/statsmodels/tools/_testing.py:19: FutureWarning: pandas.util.testing is deprecated. Use the functions in the public API at pandas.testing instead.\n",
            "  import pandas.util.testing as tm\n"
          ],
          "name": "stderr"
        }
      ]
    },
    {
      "cell_type": "code",
      "metadata": {
        "id": "oPJ_vUJwJ9nr",
        "colab_type": "code",
        "colab": {
          "base_uri": "https://localhost:8080/",
          "height": 224
        },
        "outputId": "c659ca5b-2441-449e-c95d-755da8ab36a3"
      },
      "source": [
        "data = pd.read_csv('/content/drive/My Drive/Datasets/creditcard.csv')\n",
        "data.head()"
      ],
      "execution_count": 4,
      "outputs": [
        {
          "output_type": "execute_result",
          "data": {
            "text/html": [
              "<div>\n",
              "<style scoped>\n",
              "    .dataframe tbody tr th:only-of-type {\n",
              "        vertical-align: middle;\n",
              "    }\n",
              "\n",
              "    .dataframe tbody tr th {\n",
              "        vertical-align: top;\n",
              "    }\n",
              "\n",
              "    .dataframe thead th {\n",
              "        text-align: right;\n",
              "    }\n",
              "</style>\n",
              "<table border=\"1\" class=\"dataframe\">\n",
              "  <thead>\n",
              "    <tr style=\"text-align: right;\">\n",
              "      <th></th>\n",
              "      <th>Time</th>\n",
              "      <th>V1</th>\n",
              "      <th>V2</th>\n",
              "      <th>V3</th>\n",
              "      <th>V4</th>\n",
              "      <th>V5</th>\n",
              "      <th>V6</th>\n",
              "      <th>V7</th>\n",
              "      <th>V8</th>\n",
              "      <th>V9</th>\n",
              "      <th>V10</th>\n",
              "      <th>V11</th>\n",
              "      <th>V12</th>\n",
              "      <th>V13</th>\n",
              "      <th>V14</th>\n",
              "      <th>V15</th>\n",
              "      <th>V16</th>\n",
              "      <th>V17</th>\n",
              "      <th>V18</th>\n",
              "      <th>V19</th>\n",
              "      <th>V20</th>\n",
              "      <th>V21</th>\n",
              "      <th>V22</th>\n",
              "      <th>V23</th>\n",
              "      <th>V24</th>\n",
              "      <th>V25</th>\n",
              "      <th>V26</th>\n",
              "      <th>V27</th>\n",
              "      <th>V28</th>\n",
              "      <th>Amount</th>\n",
              "      <th>Class</th>\n",
              "    </tr>\n",
              "  </thead>\n",
              "  <tbody>\n",
              "    <tr>\n",
              "      <th>0</th>\n",
              "      <td>0.0</td>\n",
              "      <td>-1.359807</td>\n",
              "      <td>-0.072781</td>\n",
              "      <td>2.536347</td>\n",
              "      <td>1.378155</td>\n",
              "      <td>-0.338321</td>\n",
              "      <td>0.462388</td>\n",
              "      <td>0.239599</td>\n",
              "      <td>0.098698</td>\n",
              "      <td>0.363787</td>\n",
              "      <td>0.090794</td>\n",
              "      <td>-0.551600</td>\n",
              "      <td>-0.617801</td>\n",
              "      <td>-0.991390</td>\n",
              "      <td>-0.311169</td>\n",
              "      <td>1.468177</td>\n",
              "      <td>-0.470401</td>\n",
              "      <td>0.207971</td>\n",
              "      <td>0.025791</td>\n",
              "      <td>0.403993</td>\n",
              "      <td>0.251412</td>\n",
              "      <td>-0.018307</td>\n",
              "      <td>0.277838</td>\n",
              "      <td>-0.110474</td>\n",
              "      <td>0.066928</td>\n",
              "      <td>0.128539</td>\n",
              "      <td>-0.189115</td>\n",
              "      <td>0.133558</td>\n",
              "      <td>-0.021053</td>\n",
              "      <td>149.62</td>\n",
              "      <td>0</td>\n",
              "    </tr>\n",
              "    <tr>\n",
              "      <th>1</th>\n",
              "      <td>0.0</td>\n",
              "      <td>1.191857</td>\n",
              "      <td>0.266151</td>\n",
              "      <td>0.166480</td>\n",
              "      <td>0.448154</td>\n",
              "      <td>0.060018</td>\n",
              "      <td>-0.082361</td>\n",
              "      <td>-0.078803</td>\n",
              "      <td>0.085102</td>\n",
              "      <td>-0.255425</td>\n",
              "      <td>-0.166974</td>\n",
              "      <td>1.612727</td>\n",
              "      <td>1.065235</td>\n",
              "      <td>0.489095</td>\n",
              "      <td>-0.143772</td>\n",
              "      <td>0.635558</td>\n",
              "      <td>0.463917</td>\n",
              "      <td>-0.114805</td>\n",
              "      <td>-0.183361</td>\n",
              "      <td>-0.145783</td>\n",
              "      <td>-0.069083</td>\n",
              "      <td>-0.225775</td>\n",
              "      <td>-0.638672</td>\n",
              "      <td>0.101288</td>\n",
              "      <td>-0.339846</td>\n",
              "      <td>0.167170</td>\n",
              "      <td>0.125895</td>\n",
              "      <td>-0.008983</td>\n",
              "      <td>0.014724</td>\n",
              "      <td>2.69</td>\n",
              "      <td>0</td>\n",
              "    </tr>\n",
              "    <tr>\n",
              "      <th>2</th>\n",
              "      <td>1.0</td>\n",
              "      <td>-1.358354</td>\n",
              "      <td>-1.340163</td>\n",
              "      <td>1.773209</td>\n",
              "      <td>0.379780</td>\n",
              "      <td>-0.503198</td>\n",
              "      <td>1.800499</td>\n",
              "      <td>0.791461</td>\n",
              "      <td>0.247676</td>\n",
              "      <td>-1.514654</td>\n",
              "      <td>0.207643</td>\n",
              "      <td>0.624501</td>\n",
              "      <td>0.066084</td>\n",
              "      <td>0.717293</td>\n",
              "      <td>-0.165946</td>\n",
              "      <td>2.345865</td>\n",
              "      <td>-2.890083</td>\n",
              "      <td>1.109969</td>\n",
              "      <td>-0.121359</td>\n",
              "      <td>-2.261857</td>\n",
              "      <td>0.524980</td>\n",
              "      <td>0.247998</td>\n",
              "      <td>0.771679</td>\n",
              "      <td>0.909412</td>\n",
              "      <td>-0.689281</td>\n",
              "      <td>-0.327642</td>\n",
              "      <td>-0.139097</td>\n",
              "      <td>-0.055353</td>\n",
              "      <td>-0.059752</td>\n",
              "      <td>378.66</td>\n",
              "      <td>0</td>\n",
              "    </tr>\n",
              "    <tr>\n",
              "      <th>3</th>\n",
              "      <td>1.0</td>\n",
              "      <td>-0.966272</td>\n",
              "      <td>-0.185226</td>\n",
              "      <td>1.792993</td>\n",
              "      <td>-0.863291</td>\n",
              "      <td>-0.010309</td>\n",
              "      <td>1.247203</td>\n",
              "      <td>0.237609</td>\n",
              "      <td>0.377436</td>\n",
              "      <td>-1.387024</td>\n",
              "      <td>-0.054952</td>\n",
              "      <td>-0.226487</td>\n",
              "      <td>0.178228</td>\n",
              "      <td>0.507757</td>\n",
              "      <td>-0.287924</td>\n",
              "      <td>-0.631418</td>\n",
              "      <td>-1.059647</td>\n",
              "      <td>-0.684093</td>\n",
              "      <td>1.965775</td>\n",
              "      <td>-1.232622</td>\n",
              "      <td>-0.208038</td>\n",
              "      <td>-0.108300</td>\n",
              "      <td>0.005274</td>\n",
              "      <td>-0.190321</td>\n",
              "      <td>-1.175575</td>\n",
              "      <td>0.647376</td>\n",
              "      <td>-0.221929</td>\n",
              "      <td>0.062723</td>\n",
              "      <td>0.061458</td>\n",
              "      <td>123.50</td>\n",
              "      <td>0</td>\n",
              "    </tr>\n",
              "    <tr>\n",
              "      <th>4</th>\n",
              "      <td>2.0</td>\n",
              "      <td>-1.158233</td>\n",
              "      <td>0.877737</td>\n",
              "      <td>1.548718</td>\n",
              "      <td>0.403034</td>\n",
              "      <td>-0.407193</td>\n",
              "      <td>0.095921</td>\n",
              "      <td>0.592941</td>\n",
              "      <td>-0.270533</td>\n",
              "      <td>0.817739</td>\n",
              "      <td>0.753074</td>\n",
              "      <td>-0.822843</td>\n",
              "      <td>0.538196</td>\n",
              "      <td>1.345852</td>\n",
              "      <td>-1.119670</td>\n",
              "      <td>0.175121</td>\n",
              "      <td>-0.451449</td>\n",
              "      <td>-0.237033</td>\n",
              "      <td>-0.038195</td>\n",
              "      <td>0.803487</td>\n",
              "      <td>0.408542</td>\n",
              "      <td>-0.009431</td>\n",
              "      <td>0.798278</td>\n",
              "      <td>-0.137458</td>\n",
              "      <td>0.141267</td>\n",
              "      <td>-0.206010</td>\n",
              "      <td>0.502292</td>\n",
              "      <td>0.219422</td>\n",
              "      <td>0.215153</td>\n",
              "      <td>69.99</td>\n",
              "      <td>0</td>\n",
              "    </tr>\n",
              "  </tbody>\n",
              "</table>\n",
              "</div>"
            ],
            "text/plain": [
              "   Time        V1        V2        V3  ...       V27       V28  Amount  Class\n",
              "0   0.0 -1.359807 -0.072781  2.536347  ...  0.133558 -0.021053  149.62      0\n",
              "1   0.0  1.191857  0.266151  0.166480  ... -0.008983  0.014724    2.69      0\n",
              "2   1.0 -1.358354 -1.340163  1.773209  ... -0.055353 -0.059752  378.66      0\n",
              "3   1.0 -0.966272 -0.185226  1.792993  ...  0.062723  0.061458  123.50      0\n",
              "4   2.0 -1.158233  0.877737  1.548718  ...  0.219422  0.215153   69.99      0\n",
              "\n",
              "[5 rows x 31 columns]"
            ]
          },
          "metadata": {
            "tags": []
          },
          "execution_count": 4
        }
      ]
    },
    {
      "cell_type": "code",
      "metadata": {
        "id": "Kypp7y2eKyzY",
        "colab_type": "code",
        "colab": {
          "base_uri": "https://localhost:8080/",
          "height": 34
        },
        "outputId": "1c331bbc-6641-4ce8-ea47-569985915ea6"
      },
      "source": [
        "data.shape"
      ],
      "execution_count": 5,
      "outputs": [
        {
          "output_type": "execute_result",
          "data": {
            "text/plain": [
              "(284807, 31)"
            ]
          },
          "metadata": {
            "tags": []
          },
          "execution_count": 5
        }
      ]
    },
    {
      "cell_type": "code",
      "metadata": {
        "id": "Z_M0mhx1K3EP",
        "colab_type": "code",
        "colab": {
          "base_uri": "https://localhost:8080/",
          "height": 561
        },
        "outputId": "8bdb0a24-1c9a-42cd-c60d-ca62aa06babf"
      },
      "source": [
        "data.isnull().sum()"
      ],
      "execution_count": 6,
      "outputs": [
        {
          "output_type": "execute_result",
          "data": {
            "text/plain": [
              "Time      0\n",
              "V1        0\n",
              "V2        0\n",
              "V3        0\n",
              "V4        0\n",
              "V5        0\n",
              "V6        0\n",
              "V7        0\n",
              "V8        0\n",
              "V9        0\n",
              "V10       0\n",
              "V11       0\n",
              "V12       0\n",
              "V13       0\n",
              "V14       0\n",
              "V15       0\n",
              "V16       0\n",
              "V17       0\n",
              "V18       0\n",
              "V19       0\n",
              "V20       0\n",
              "V21       0\n",
              "V22       0\n",
              "V23       0\n",
              "V24       0\n",
              "V25       0\n",
              "V26       0\n",
              "V27       0\n",
              "V28       0\n",
              "Amount    0\n",
              "Class     0\n",
              "dtype: int64"
            ]
          },
          "metadata": {
            "tags": []
          },
          "execution_count": 6
        }
      ]
    },
    {
      "cell_type": "code",
      "metadata": {
        "id": "_1T1KMeqK-eo",
        "colab_type": "code",
        "colab": {
          "base_uri": "https://localhost:8080/",
          "height": 663
        },
        "outputId": "a7cd29cd-f3cf-4fda-96fb-9135e5391314"
      },
      "source": [
        "data.info()"
      ],
      "execution_count": 7,
      "outputs": [
        {
          "output_type": "stream",
          "text": [
            "<class 'pandas.core.frame.DataFrame'>\n",
            "RangeIndex: 284807 entries, 0 to 284806\n",
            "Data columns (total 31 columns):\n",
            " #   Column  Non-Null Count   Dtype  \n",
            "---  ------  --------------   -----  \n",
            " 0   Time    284807 non-null  float64\n",
            " 1   V1      284807 non-null  float64\n",
            " 2   V2      284807 non-null  float64\n",
            " 3   V3      284807 non-null  float64\n",
            " 4   V4      284807 non-null  float64\n",
            " 5   V5      284807 non-null  float64\n",
            " 6   V6      284807 non-null  float64\n",
            " 7   V7      284807 non-null  float64\n",
            " 8   V8      284807 non-null  float64\n",
            " 9   V9      284807 non-null  float64\n",
            " 10  V10     284807 non-null  float64\n",
            " 11  V11     284807 non-null  float64\n",
            " 12  V12     284807 non-null  float64\n",
            " 13  V13     284807 non-null  float64\n",
            " 14  V14     284807 non-null  float64\n",
            " 15  V15     284807 non-null  float64\n",
            " 16  V16     284807 non-null  float64\n",
            " 17  V17     284807 non-null  float64\n",
            " 18  V18     284807 non-null  float64\n",
            " 19  V19     284807 non-null  float64\n",
            " 20  V20     284807 non-null  float64\n",
            " 21  V21     284807 non-null  float64\n",
            " 22  V22     284807 non-null  float64\n",
            " 23  V23     284807 non-null  float64\n",
            " 24  V24     284807 non-null  float64\n",
            " 25  V25     284807 non-null  float64\n",
            " 26  V26     284807 non-null  float64\n",
            " 27  V27     284807 non-null  float64\n",
            " 28  V28     284807 non-null  float64\n",
            " 29  Amount  284807 non-null  float64\n",
            " 30  Class   284807 non-null  int64  \n",
            "dtypes: float64(30), int64(1)\n",
            "memory usage: 67.4 MB\n"
          ],
          "name": "stdout"
        }
      ]
    },
    {
      "cell_type": "code",
      "metadata": {
        "id": "j7_NjP_yLDTB",
        "colab_type": "code",
        "colab": {
          "base_uri": "https://localhost:8080/",
          "height": 68
        },
        "outputId": "ded73472-7b56-4972-8675-ae0a9eaff7dc"
      },
      "source": [
        "data['Class'].value_counts()"
      ],
      "execution_count": 9,
      "outputs": [
        {
          "output_type": "execute_result",
          "data": {
            "text/plain": [
              "0    284315\n",
              "1       492\n",
              "Name: Class, dtype: int64"
            ]
          },
          "metadata": {
            "tags": []
          },
          "execution_count": 9
        }
      ]
    },
    {
      "cell_type": "markdown",
      "metadata": {
        "id": "fdJ0Wl0ALWYo",
        "colab_type": "text"
      },
      "source": [
        "**Balance Dataset**"
      ]
    },
    {
      "cell_type": "code",
      "metadata": {
        "id": "uiAdsartLRfW",
        "colab_type": "code",
        "colab": {
          "base_uri": "https://localhost:8080/",
          "height": 34
        },
        "outputId": "22b8cafe-5404-495d-f34c-9cf43accace8"
      },
      "source": [
        "non_fraud = data[data['Class']==0]\n",
        "fraud = data[data['Class']==1]\n",
        "non_fraud.shape, fraud.shape"
      ],
      "execution_count": 10,
      "outputs": [
        {
          "output_type": "execute_result",
          "data": {
            "text/plain": [
              "((284315, 31), (492, 31))"
            ]
          },
          "metadata": {
            "tags": []
          },
          "execution_count": 10
        }
      ]
    },
    {
      "cell_type": "code",
      "metadata": {
        "id": "dgblSQmMMLMZ",
        "colab_type": "code",
        "colab": {
          "base_uri": "https://localhost:8080/",
          "height": 34
        },
        "outputId": "2c091513-2053-4370-987f-b0fd9135e096"
      },
      "source": [
        "non_fraud = non_fraud.sample(fraud.shape[0])\n",
        "non_fraud.shape"
      ],
      "execution_count": 14,
      "outputs": [
        {
          "output_type": "execute_result",
          "data": {
            "text/plain": [
              "(492, 31)"
            ]
          },
          "metadata": {
            "tags": []
          },
          "execution_count": 14
        }
      ]
    },
    {
      "cell_type": "code",
      "metadata": {
        "id": "3qHqT_95Mbpn",
        "colab_type": "code",
        "colab": {
          "base_uri": "https://localhost:8080/",
          "height": 439
        },
        "outputId": "90c24da3-749d-42be-aabb-594dbe73429d"
      },
      "source": [
        "data = fraud.append(non_fraud, ignore_index=True)\n",
        "data"
      ],
      "execution_count": 15,
      "outputs": [
        {
          "output_type": "execute_result",
          "data": {
            "text/html": [
              "<div>\n",
              "<style scoped>\n",
              "    .dataframe tbody tr th:only-of-type {\n",
              "        vertical-align: middle;\n",
              "    }\n",
              "\n",
              "    .dataframe tbody tr th {\n",
              "        vertical-align: top;\n",
              "    }\n",
              "\n",
              "    .dataframe thead th {\n",
              "        text-align: right;\n",
              "    }\n",
              "</style>\n",
              "<table border=\"1\" class=\"dataframe\">\n",
              "  <thead>\n",
              "    <tr style=\"text-align: right;\">\n",
              "      <th></th>\n",
              "      <th>Time</th>\n",
              "      <th>V1</th>\n",
              "      <th>V2</th>\n",
              "      <th>V3</th>\n",
              "      <th>V4</th>\n",
              "      <th>V5</th>\n",
              "      <th>V6</th>\n",
              "      <th>V7</th>\n",
              "      <th>V8</th>\n",
              "      <th>V9</th>\n",
              "      <th>V10</th>\n",
              "      <th>V11</th>\n",
              "      <th>V12</th>\n",
              "      <th>V13</th>\n",
              "      <th>V14</th>\n",
              "      <th>V15</th>\n",
              "      <th>V16</th>\n",
              "      <th>V17</th>\n",
              "      <th>V18</th>\n",
              "      <th>V19</th>\n",
              "      <th>V20</th>\n",
              "      <th>V21</th>\n",
              "      <th>V22</th>\n",
              "      <th>V23</th>\n",
              "      <th>V24</th>\n",
              "      <th>V25</th>\n",
              "      <th>V26</th>\n",
              "      <th>V27</th>\n",
              "      <th>V28</th>\n",
              "      <th>Amount</th>\n",
              "      <th>Class</th>\n",
              "    </tr>\n",
              "  </thead>\n",
              "  <tbody>\n",
              "    <tr>\n",
              "      <th>0</th>\n",
              "      <td>406.0</td>\n",
              "      <td>-2.312227</td>\n",
              "      <td>1.951992</td>\n",
              "      <td>-1.609851</td>\n",
              "      <td>3.997906</td>\n",
              "      <td>-0.522188</td>\n",
              "      <td>-1.426545</td>\n",
              "      <td>-2.537387</td>\n",
              "      <td>1.391657</td>\n",
              "      <td>-2.770089</td>\n",
              "      <td>-2.772272</td>\n",
              "      <td>3.202033</td>\n",
              "      <td>-2.899907</td>\n",
              "      <td>-0.595222</td>\n",
              "      <td>-4.289254</td>\n",
              "      <td>0.389724</td>\n",
              "      <td>-1.140747</td>\n",
              "      <td>-2.830056</td>\n",
              "      <td>-0.016822</td>\n",
              "      <td>0.416956</td>\n",
              "      <td>0.126911</td>\n",
              "      <td>0.517232</td>\n",
              "      <td>-0.035049</td>\n",
              "      <td>-0.465211</td>\n",
              "      <td>0.320198</td>\n",
              "      <td>0.044519</td>\n",
              "      <td>0.177840</td>\n",
              "      <td>0.261145</td>\n",
              "      <td>-0.143276</td>\n",
              "      <td>0.00</td>\n",
              "      <td>1</td>\n",
              "    </tr>\n",
              "    <tr>\n",
              "      <th>1</th>\n",
              "      <td>472.0</td>\n",
              "      <td>-3.043541</td>\n",
              "      <td>-3.157307</td>\n",
              "      <td>1.088463</td>\n",
              "      <td>2.288644</td>\n",
              "      <td>1.359805</td>\n",
              "      <td>-1.064823</td>\n",
              "      <td>0.325574</td>\n",
              "      <td>-0.067794</td>\n",
              "      <td>-0.270953</td>\n",
              "      <td>-0.838587</td>\n",
              "      <td>-0.414575</td>\n",
              "      <td>-0.503141</td>\n",
              "      <td>0.676502</td>\n",
              "      <td>-1.692029</td>\n",
              "      <td>2.000635</td>\n",
              "      <td>0.666780</td>\n",
              "      <td>0.599717</td>\n",
              "      <td>1.725321</td>\n",
              "      <td>0.283345</td>\n",
              "      <td>2.102339</td>\n",
              "      <td>0.661696</td>\n",
              "      <td>0.435477</td>\n",
              "      <td>1.375966</td>\n",
              "      <td>-0.293803</td>\n",
              "      <td>0.279798</td>\n",
              "      <td>-0.145362</td>\n",
              "      <td>-0.252773</td>\n",
              "      <td>0.035764</td>\n",
              "      <td>529.00</td>\n",
              "      <td>1</td>\n",
              "    </tr>\n",
              "    <tr>\n",
              "      <th>2</th>\n",
              "      <td>4462.0</td>\n",
              "      <td>-2.303350</td>\n",
              "      <td>1.759247</td>\n",
              "      <td>-0.359745</td>\n",
              "      <td>2.330243</td>\n",
              "      <td>-0.821628</td>\n",
              "      <td>-0.075788</td>\n",
              "      <td>0.562320</td>\n",
              "      <td>-0.399147</td>\n",
              "      <td>-0.238253</td>\n",
              "      <td>-1.525412</td>\n",
              "      <td>2.032912</td>\n",
              "      <td>-6.560124</td>\n",
              "      <td>0.022937</td>\n",
              "      <td>-1.470102</td>\n",
              "      <td>-0.698826</td>\n",
              "      <td>-2.282194</td>\n",
              "      <td>-4.781831</td>\n",
              "      <td>-2.615665</td>\n",
              "      <td>-1.334441</td>\n",
              "      <td>-0.430022</td>\n",
              "      <td>-0.294166</td>\n",
              "      <td>-0.932391</td>\n",
              "      <td>0.172726</td>\n",
              "      <td>-0.087330</td>\n",
              "      <td>-0.156114</td>\n",
              "      <td>-0.542628</td>\n",
              "      <td>0.039566</td>\n",
              "      <td>-0.153029</td>\n",
              "      <td>239.93</td>\n",
              "      <td>1</td>\n",
              "    </tr>\n",
              "    <tr>\n",
              "      <th>3</th>\n",
              "      <td>6986.0</td>\n",
              "      <td>-4.397974</td>\n",
              "      <td>1.358367</td>\n",
              "      <td>-2.592844</td>\n",
              "      <td>2.679787</td>\n",
              "      <td>-1.128131</td>\n",
              "      <td>-1.706536</td>\n",
              "      <td>-3.496197</td>\n",
              "      <td>-0.248778</td>\n",
              "      <td>-0.247768</td>\n",
              "      <td>-4.801637</td>\n",
              "      <td>4.895844</td>\n",
              "      <td>-10.912819</td>\n",
              "      <td>0.184372</td>\n",
              "      <td>-6.771097</td>\n",
              "      <td>-0.007326</td>\n",
              "      <td>-7.358083</td>\n",
              "      <td>-12.598419</td>\n",
              "      <td>-5.131549</td>\n",
              "      <td>0.308334</td>\n",
              "      <td>-0.171608</td>\n",
              "      <td>0.573574</td>\n",
              "      <td>0.176968</td>\n",
              "      <td>-0.436207</td>\n",
              "      <td>-0.053502</td>\n",
              "      <td>0.252405</td>\n",
              "      <td>-0.657488</td>\n",
              "      <td>-0.827136</td>\n",
              "      <td>0.849573</td>\n",
              "      <td>59.00</td>\n",
              "      <td>1</td>\n",
              "    </tr>\n",
              "    <tr>\n",
              "      <th>4</th>\n",
              "      <td>7519.0</td>\n",
              "      <td>1.234235</td>\n",
              "      <td>3.019740</td>\n",
              "      <td>-4.304597</td>\n",
              "      <td>4.732795</td>\n",
              "      <td>3.624201</td>\n",
              "      <td>-1.357746</td>\n",
              "      <td>1.713445</td>\n",
              "      <td>-0.496358</td>\n",
              "      <td>-1.282858</td>\n",
              "      <td>-2.447469</td>\n",
              "      <td>2.101344</td>\n",
              "      <td>-4.609628</td>\n",
              "      <td>1.464378</td>\n",
              "      <td>-6.079337</td>\n",
              "      <td>-0.339237</td>\n",
              "      <td>2.581851</td>\n",
              "      <td>6.739384</td>\n",
              "      <td>3.042493</td>\n",
              "      <td>-2.721853</td>\n",
              "      <td>0.009061</td>\n",
              "      <td>-0.379068</td>\n",
              "      <td>-0.704181</td>\n",
              "      <td>-0.656805</td>\n",
              "      <td>-1.632653</td>\n",
              "      <td>1.488901</td>\n",
              "      <td>0.566797</td>\n",
              "      <td>-0.010016</td>\n",
              "      <td>0.146793</td>\n",
              "      <td>1.00</td>\n",
              "      <td>1</td>\n",
              "    </tr>\n",
              "    <tr>\n",
              "      <th>...</th>\n",
              "      <td>...</td>\n",
              "      <td>...</td>\n",
              "      <td>...</td>\n",
              "      <td>...</td>\n",
              "      <td>...</td>\n",
              "      <td>...</td>\n",
              "      <td>...</td>\n",
              "      <td>...</td>\n",
              "      <td>...</td>\n",
              "      <td>...</td>\n",
              "      <td>...</td>\n",
              "      <td>...</td>\n",
              "      <td>...</td>\n",
              "      <td>...</td>\n",
              "      <td>...</td>\n",
              "      <td>...</td>\n",
              "      <td>...</td>\n",
              "      <td>...</td>\n",
              "      <td>...</td>\n",
              "      <td>...</td>\n",
              "      <td>...</td>\n",
              "      <td>...</td>\n",
              "      <td>...</td>\n",
              "      <td>...</td>\n",
              "      <td>...</td>\n",
              "      <td>...</td>\n",
              "      <td>...</td>\n",
              "      <td>...</td>\n",
              "      <td>...</td>\n",
              "      <td>...</td>\n",
              "      <td>...</td>\n",
              "    </tr>\n",
              "    <tr>\n",
              "      <th>979</th>\n",
              "      <td>129840.0</td>\n",
              "      <td>-0.900437</td>\n",
              "      <td>1.754512</td>\n",
              "      <td>2.543339</td>\n",
              "      <td>3.973365</td>\n",
              "      <td>0.089685</td>\n",
              "      <td>2.086978</td>\n",
              "      <td>-0.430726</td>\n",
              "      <td>0.553758</td>\n",
              "      <td>-1.026386</td>\n",
              "      <td>1.942735</td>\n",
              "      <td>-1.663531</td>\n",
              "      <td>-0.538909</td>\n",
              "      <td>1.527110</td>\n",
              "      <td>-0.850480</td>\n",
              "      <td>1.396622</td>\n",
              "      <td>0.696584</td>\n",
              "      <td>-0.483502</td>\n",
              "      <td>1.011503</td>\n",
              "      <td>1.059144</td>\n",
              "      <td>0.759936</td>\n",
              "      <td>0.086432</td>\n",
              "      <td>0.621599</td>\n",
              "      <td>-0.362282</td>\n",
              "      <td>0.051794</td>\n",
              "      <td>0.241988</td>\n",
              "      <td>0.577976</td>\n",
              "      <td>0.617500</td>\n",
              "      <td>0.299683</td>\n",
              "      <td>6.64</td>\n",
              "      <td>0</td>\n",
              "    </tr>\n",
              "    <tr>\n",
              "      <th>980</th>\n",
              "      <td>111133.0</td>\n",
              "      <td>2.104391</td>\n",
              "      <td>0.100381</td>\n",
              "      <td>-1.418627</td>\n",
              "      <td>0.318853</td>\n",
              "      <td>0.436612</td>\n",
              "      <td>-0.708901</td>\n",
              "      <td>0.087526</td>\n",
              "      <td>-0.374746</td>\n",
              "      <td>2.009336</td>\n",
              "      <td>-0.478356</td>\n",
              "      <td>0.006473</td>\n",
              "      <td>-2.142919</td>\n",
              "      <td>2.054824</td>\n",
              "      <td>1.831198</td>\n",
              "      <td>0.149551</td>\n",
              "      <td>-0.226850</td>\n",
              "      <td>0.062180</td>\n",
              "      <td>0.439432</td>\n",
              "      <td>-0.283287</td>\n",
              "      <td>-0.241097</td>\n",
              "      <td>0.099031</td>\n",
              "      <td>0.697460</td>\n",
              "      <td>-0.013048</td>\n",
              "      <td>0.444533</td>\n",
              "      <td>0.377218</td>\n",
              "      <td>-0.476415</td>\n",
              "      <td>-0.021479</td>\n",
              "      <td>-0.055496</td>\n",
              "      <td>1.00</td>\n",
              "      <td>0</td>\n",
              "    </tr>\n",
              "    <tr>\n",
              "      <th>981</th>\n",
              "      <td>96763.0</td>\n",
              "      <td>2.056948</td>\n",
              "      <td>-0.086067</td>\n",
              "      <td>-0.936874</td>\n",
              "      <td>0.484793</td>\n",
              "      <td>-0.115058</td>\n",
              "      <td>-0.950381</td>\n",
              "      <td>-0.016599</td>\n",
              "      <td>-0.416495</td>\n",
              "      <td>2.311624</td>\n",
              "      <td>-0.592183</td>\n",
              "      <td>-0.024092</td>\n",
              "      <td>-1.550242</td>\n",
              "      <td>2.360385</td>\n",
              "      <td>1.315460</td>\n",
              "      <td>-1.264637</td>\n",
              "      <td>-0.705027</td>\n",
              "      <td>0.617919</td>\n",
              "      <td>-0.252065</td>\n",
              "      <td>0.087247</td>\n",
              "      <td>-0.237091</td>\n",
              "      <td>-0.065895</td>\n",
              "      <td>0.434630</td>\n",
              "      <td>0.029636</td>\n",
              "      <td>-0.000042</td>\n",
              "      <td>0.213656</td>\n",
              "      <td>0.154935</td>\n",
              "      <td>-0.047399</td>\n",
              "      <td>-0.067756</td>\n",
              "      <td>4.06</td>\n",
              "      <td>0</td>\n",
              "    </tr>\n",
              "    <tr>\n",
              "      <th>982</th>\n",
              "      <td>133920.0</td>\n",
              "      <td>2.013780</td>\n",
              "      <td>-0.112168</td>\n",
              "      <td>-1.098120</td>\n",
              "      <td>0.433677</td>\n",
              "      <td>-0.094518</td>\n",
              "      <td>-0.422946</td>\n",
              "      <td>-0.456496</td>\n",
              "      <td>0.031492</td>\n",
              "      <td>1.061787</td>\n",
              "      <td>-0.499191</td>\n",
              "      <td>-0.795691</td>\n",
              "      <td>-0.313188</td>\n",
              "      <td>-0.512546</td>\n",
              "      <td>-1.248923</td>\n",
              "      <td>0.771460</td>\n",
              "      <td>0.964484</td>\n",
              "      <td>0.385587</td>\n",
              "      <td>0.299442</td>\n",
              "      <td>-0.133421</td>\n",
              "      <td>-0.151835</td>\n",
              "      <td>-0.359858</td>\n",
              "      <td>-0.996074</td>\n",
              "      <td>0.418803</td>\n",
              "      <td>0.326187</td>\n",
              "      <td>-0.584835</td>\n",
              "      <td>0.103557</td>\n",
              "      <td>-0.025284</td>\n",
              "      <td>-0.010137</td>\n",
              "      <td>11.94</td>\n",
              "      <td>0</td>\n",
              "    </tr>\n",
              "    <tr>\n",
              "      <th>983</th>\n",
              "      <td>116347.0</td>\n",
              "      <td>1.932556</td>\n",
              "      <td>0.144796</td>\n",
              "      <td>-2.003212</td>\n",
              "      <td>0.947695</td>\n",
              "      <td>1.045342</td>\n",
              "      <td>-0.287699</td>\n",
              "      <td>0.673647</td>\n",
              "      <td>-0.260640</td>\n",
              "      <td>-0.462084</td>\n",
              "      <td>0.453998</td>\n",
              "      <td>0.744052</td>\n",
              "      <td>1.209482</td>\n",
              "      <td>0.867071</td>\n",
              "      <td>0.738168</td>\n",
              "      <td>-0.401767</td>\n",
              "      <td>-0.031292</td>\n",
              "      <td>-0.918421</td>\n",
              "      <td>0.050689</td>\n",
              "      <td>-0.005003</td>\n",
              "      <td>-0.049067</td>\n",
              "      <td>0.108161</td>\n",
              "      <td>0.251066</td>\n",
              "      <td>-0.025577</td>\n",
              "      <td>0.229387</td>\n",
              "      <td>0.372900</td>\n",
              "      <td>-0.623937</td>\n",
              "      <td>-0.034839</td>\n",
              "      <td>-0.053794</td>\n",
              "      <td>65.40</td>\n",
              "      <td>0</td>\n",
              "    </tr>\n",
              "  </tbody>\n",
              "</table>\n",
              "<p>984 rows × 31 columns</p>\n",
              "</div>"
            ],
            "text/plain": [
              "         Time        V1        V2        V3  ...       V27       V28  Amount  Class\n",
              "0       406.0 -2.312227  1.951992 -1.609851  ...  0.261145 -0.143276    0.00      1\n",
              "1       472.0 -3.043541 -3.157307  1.088463  ... -0.252773  0.035764  529.00      1\n",
              "2      4462.0 -2.303350  1.759247 -0.359745  ...  0.039566 -0.153029  239.93      1\n",
              "3      6986.0 -4.397974  1.358367 -2.592844  ... -0.827136  0.849573   59.00      1\n",
              "4      7519.0  1.234235  3.019740 -4.304597  ... -0.010016  0.146793    1.00      1\n",
              "..        ...       ...       ...       ...  ...       ...       ...     ...    ...\n",
              "979  129840.0 -0.900437  1.754512  2.543339  ...  0.617500  0.299683    6.64      0\n",
              "980  111133.0  2.104391  0.100381 -1.418627  ... -0.021479 -0.055496    1.00      0\n",
              "981   96763.0  2.056948 -0.086067 -0.936874  ... -0.047399 -0.067756    4.06      0\n",
              "982  133920.0  2.013780 -0.112168 -1.098120  ... -0.025284 -0.010137   11.94      0\n",
              "983  116347.0  1.932556  0.144796 -2.003212  ... -0.034839 -0.053794   65.40      0\n",
              "\n",
              "[984 rows x 31 columns]"
            ]
          },
          "metadata": {
            "tags": []
          },
          "execution_count": 15
        }
      ]
    },
    {
      "cell_type": "code",
      "metadata": {
        "id": "_KBa6jbkNFjg",
        "colab_type": "code",
        "colab": {
          "base_uri": "https://localhost:8080/",
          "height": 68
        },
        "outputId": "2bede034-8625-44f5-db3f-2ca61399d5ae"
      },
      "source": [
        "data['Class'].value_counts()"
      ],
      "execution_count": 17,
      "outputs": [
        {
          "output_type": "execute_result",
          "data": {
            "text/plain": [
              "1    492\n",
              "0    492\n",
              "Name: Class, dtype: int64"
            ]
          },
          "metadata": {
            "tags": []
          },
          "execution_count": 17
        }
      ]
    },
    {
      "cell_type": "code",
      "metadata": {
        "id": "uQ5BFuzxNOfl",
        "colab_type": "code",
        "colab": {}
      },
      "source": [
        "x = data.drop('Class', axis = 1)\n",
        "y = data['Class']"
      ],
      "execution_count": 0,
      "outputs": []
    },
    {
      "cell_type": "code",
      "metadata": {
        "id": "WhTcrMrtNOqU",
        "colab_type": "code",
        "colab": {}
      },
      "source": [
        "x_train, x_test, y_train, y_test = train_test_split(x, y, test_size = 0.2, random_state = 0, stratify = y)"
      ],
      "execution_count": 0,
      "outputs": []
    },
    {
      "cell_type": "code",
      "metadata": {
        "id": "MMz5rkafNOxX",
        "colab_type": "code",
        "colab": {
          "base_uri": "https://localhost:8080/",
          "height": 34
        },
        "outputId": "7c185141-054f-41cd-d55c-f16ac7b4dca4"
      },
      "source": [
        "x_train.shape, x_test.shape"
      ],
      "execution_count": 20,
      "outputs": [
        {
          "output_type": "execute_result",
          "data": {
            "text/plain": [
              "((787, 30), (197, 30))"
            ]
          },
          "metadata": {
            "tags": []
          },
          "execution_count": 20
        }
      ]
    },
    {
      "cell_type": "code",
      "metadata": {
        "id": "bjhmgj4SNO90",
        "colab_type": "code",
        "colab": {}
      },
      "source": [
        "scaler  = StandardScaler()\n",
        "x_train = scaler.fit_transform(x_train)\n",
        "x_test = scaler.transform(x_test)"
      ],
      "execution_count": 0,
      "outputs": []
    },
    {
      "cell_type": "code",
      "metadata": {
        "id": "Pw-1USDUNPJ0",
        "colab_type": "code",
        "colab": {
          "base_uri": "https://localhost:8080/",
          "height": 238
        },
        "outputId": "b651c494-4388-485c-b69f-5c25ea331572"
      },
      "source": [
        "x_train"
      ],
      "execution_count": 24,
      "outputs": [
        {
          "output_type": "execute_result",
          "data": {
            "text/plain": [
              "array([[ 1.47358339,  0.31684521, -0.17721815, ...,  0.09787875,\n",
              "        -0.34703511, -0.41360309],\n",
              "       [-0.76231721,  0.63308274, -0.58834309, ..., -0.03113892,\n",
              "        -0.03974621, -0.37486279],\n",
              "       [-1.40592096, -2.11122525,  1.23187005, ...,  2.50036082,\n",
              "        -2.40452313, -0.48176757],\n",
              "       ...,\n",
              "       [-1.53769783, -0.40158912,  0.31876486, ..., -1.35237031,\n",
              "         1.56615949, -0.34622264],\n",
              "       [-1.51756757,  0.6408017 , -0.41468621, ..., -0.15362057,\n",
              "        -0.09742318, -0.46078324],\n",
              "       [-1.22188486,  0.2056902 , -0.22805264, ..., -0.16557328,\n",
              "        -0.27962381, -0.27602891]])"
            ]
          },
          "metadata": {
            "tags": []
          },
          "execution_count": 24
        }
      ]
    },
    {
      "cell_type": "code",
      "metadata": {
        "id": "hFY3FEvGNPWp",
        "colab_type": "code",
        "colab": {}
      },
      "source": [
        "y_train = y_train.to_numpy()\n",
        "y_test = y_test.to_numpy()"
      ],
      "execution_count": 0,
      "outputs": []
    },
    {
      "cell_type": "code",
      "metadata": {
        "id": "Ou_d7c13NPew",
        "colab_type": "code",
        "colab": {
          "base_uri": "https://localhost:8080/",
          "height": 34
        },
        "outputId": "0d47f9b9-9f45-4c08-ea1d-e2a929f9e776"
      },
      "source": [
        "x_train.shape"
      ],
      "execution_count": 26,
      "outputs": [
        {
          "output_type": "execute_result",
          "data": {
            "text/plain": [
              "(787, 30)"
            ]
          },
          "metadata": {
            "tags": []
          },
          "execution_count": 26
        }
      ]
    },
    {
      "cell_type": "code",
      "metadata": {
        "id": "tviixaNgNPsJ",
        "colab_type": "code",
        "colab": {}
      },
      "source": [
        "x_train = x_train.reshape(x_train.shape[0], x_train.shape[1], 1)\n",
        "x_test = x_test.reshape(x_test.shape[0], x_test.shape[1], 1)"
      ],
      "execution_count": 0,
      "outputs": []
    },
    {
      "cell_type": "code",
      "metadata": {
        "id": "Gaq0asfpNP71",
        "colab_type": "code",
        "colab": {
          "base_uri": "https://localhost:8080/",
          "height": 34
        },
        "outputId": "2977023d-cda0-4865-ee98-c806cf550ffe"
      },
      "source": [
        "x_train.shape, x_test.shape"
      ],
      "execution_count": 28,
      "outputs": [
        {
          "output_type": "execute_result",
          "data": {
            "text/plain": [
              "((787, 30, 1), (197, 30, 1))"
            ]
          },
          "metadata": {
            "tags": []
          },
          "execution_count": 28
        }
      ]
    },
    {
      "cell_type": "markdown",
      "metadata": {
        "id": "dL6ar8XdScDK",
        "colab_type": "text"
      },
      "source": [
        "**Build CNN**"
      ]
    },
    {
      "cell_type": "code",
      "metadata": {
        "id": "6dITLSgqNQAN",
        "colab_type": "code",
        "colab": {}
      },
      "source": [
        "epochs = 20\n",
        "model = Sequential()\n",
        "model.add(Conv1D(32, 2, activation='relu', input_shape = x_train[0].shape))\n",
        "model.add(BatchNormalization())\n",
        "model.add(Dropout(0.2))\n",
        "\n",
        "model.add(Conv1D(64, 2, activation='relu'))\n",
        "model.add(BatchNormalization())\n",
        "model.add(Dropout(0.5))\n",
        "\n",
        "model.add(Flatten())\n",
        "model.add(Dense(64, activation='relu'))\n",
        "model.add(Dropout(0.5))\n",
        "\n",
        "model.add(Dense(1, activation='sigmoid'))\n"
      ],
      "execution_count": 0,
      "outputs": []
    },
    {
      "cell_type": "code",
      "metadata": {
        "id": "OmFc4rTzNP6a",
        "colab_type": "code",
        "colab": {
          "base_uri": "https://localhost:8080/",
          "height": 493
        },
        "outputId": "0449c6df-25ad-4a37-eb4d-6e5820732f8f"
      },
      "source": [
        "model.summary()"
      ],
      "execution_count": 30,
      "outputs": [
        {
          "output_type": "stream",
          "text": [
            "Model: \"sequential\"\n",
            "_________________________________________________________________\n",
            "Layer (type)                 Output Shape              Param #   \n",
            "=================================================================\n",
            "conv1d (Conv1D)              (None, 29, 32)            96        \n",
            "_________________________________________________________________\n",
            "batch_normalization (BatchNo (None, 29, 32)            128       \n",
            "_________________________________________________________________\n",
            "dropout (Dropout)            (None, 29, 32)            0         \n",
            "_________________________________________________________________\n",
            "conv1d_1 (Conv1D)            (None, 28, 64)            4160      \n",
            "_________________________________________________________________\n",
            "batch_normalization_1 (Batch (None, 28, 64)            256       \n",
            "_________________________________________________________________\n",
            "dropout_1 (Dropout)          (None, 28, 64)            0         \n",
            "_________________________________________________________________\n",
            "flatten (Flatten)            (None, 1792)              0         \n",
            "_________________________________________________________________\n",
            "dense (Dense)                (None, 64)                114752    \n",
            "_________________________________________________________________\n",
            "dropout_2 (Dropout)          (None, 64)                0         \n",
            "_________________________________________________________________\n",
            "dense_1 (Dense)              (None, 1)                 65        \n",
            "=================================================================\n",
            "Total params: 119,457\n",
            "Trainable params: 119,265\n",
            "Non-trainable params: 192\n",
            "_________________________________________________________________\n"
          ],
          "name": "stdout"
        }
      ]
    },
    {
      "cell_type": "code",
      "metadata": {
        "id": "Gv5VELlLNP2z",
        "colab_type": "code",
        "colab": {}
      },
      "source": [
        "model.compile(optimizer=Adam(lr = 0.0001), loss='binary_crossentropy', metrics=['accuracy'])"
      ],
      "execution_count": 0,
      "outputs": []
    },
    {
      "cell_type": "code",
      "metadata": {
        "id": "bdZTzfx1NPzg",
        "colab_type": "code",
        "colab": {
          "base_uri": "https://localhost:8080/",
          "height": 697
        },
        "outputId": "441d51c3-d249-4edc-ddd2-5426702255fc"
      },
      "source": [
        "history = model.fit(x_train, y_train, epochs=epochs, verbose= 1, validation_data=(x_test, y_test))"
      ],
      "execution_count": 33,
      "outputs": [
        {
          "output_type": "stream",
          "text": [
            "Epoch 1/20\n",
            "25/25 [==============================] - 0s 16ms/step - loss: 0.9090 - accuracy: 0.6112 - val_loss: 0.6185 - val_accuracy: 0.8173\n",
            "Epoch 2/20\n",
            "25/25 [==============================] - 0s 7ms/step - loss: 0.5665 - accuracy: 0.7675 - val_loss: 0.5708 - val_accuracy: 0.8579\n",
            "Epoch 3/20\n",
            "25/25 [==============================] - 0s 8ms/step - loss: 0.4134 - accuracy: 0.8437 - val_loss: 0.5379 - val_accuracy: 0.8883\n",
            "Epoch 4/20\n",
            "25/25 [==============================] - 0s 7ms/step - loss: 0.3918 - accuracy: 0.8615 - val_loss: 0.5091 - val_accuracy: 0.8934\n",
            "Epoch 5/20\n",
            "25/25 [==============================] - 0s 7ms/step - loss: 0.3312 - accuracy: 0.8755 - val_loss: 0.4821 - val_accuracy: 0.8883\n",
            "Epoch 6/20\n",
            "25/25 [==============================] - 0s 8ms/step - loss: 0.2897 - accuracy: 0.8920 - val_loss: 0.4517 - val_accuracy: 0.8832\n",
            "Epoch 7/20\n",
            "25/25 [==============================] - 0s 8ms/step - loss: 0.3007 - accuracy: 0.8945 - val_loss: 0.4116 - val_accuracy: 0.8985\n",
            "Epoch 8/20\n",
            "25/25 [==============================] - 0s 8ms/step - loss: 0.2666 - accuracy: 0.9034 - val_loss: 0.3872 - val_accuracy: 0.8985\n",
            "Epoch 9/20\n",
            "25/25 [==============================] - 0s 8ms/step - loss: 0.2500 - accuracy: 0.9111 - val_loss: 0.3596 - val_accuracy: 0.9036\n",
            "Epoch 10/20\n",
            "25/25 [==============================] - 0s 8ms/step - loss: 0.2824 - accuracy: 0.9060 - val_loss: 0.3230 - val_accuracy: 0.9086\n",
            "Epoch 11/20\n",
            "25/25 [==============================] - 0s 8ms/step - loss: 0.2542 - accuracy: 0.9161 - val_loss: 0.3039 - val_accuracy: 0.9086\n",
            "Epoch 12/20\n",
            "25/25 [==============================] - 0s 8ms/step - loss: 0.2344 - accuracy: 0.9161 - val_loss: 0.2809 - val_accuracy: 0.9086\n",
            "Epoch 13/20\n",
            "25/25 [==============================] - 0s 8ms/step - loss: 0.2443 - accuracy: 0.9212 - val_loss: 0.2640 - val_accuracy: 0.9137\n",
            "Epoch 14/20\n",
            "25/25 [==============================] - 0s 8ms/step - loss: 0.1981 - accuracy: 0.9327 - val_loss: 0.2474 - val_accuracy: 0.9137\n",
            "Epoch 15/20\n",
            "25/25 [==============================] - 0s 7ms/step - loss: 0.2013 - accuracy: 0.9314 - val_loss: 0.2344 - val_accuracy: 0.9086\n",
            "Epoch 16/20\n",
            "25/25 [==============================] - 0s 8ms/step - loss: 0.2124 - accuracy: 0.9301 - val_loss: 0.2215 - val_accuracy: 0.9137\n",
            "Epoch 17/20\n",
            "25/25 [==============================] - 0s 8ms/step - loss: 0.1970 - accuracy: 0.9339 - val_loss: 0.2120 - val_accuracy: 0.9086\n",
            "Epoch 18/20\n",
            "25/25 [==============================] - 0s 8ms/step - loss: 0.1790 - accuracy: 0.9327 - val_loss: 0.2063 - val_accuracy: 0.9086\n",
            "Epoch 19/20\n",
            "25/25 [==============================] - 0s 8ms/step - loss: 0.1958 - accuracy: 0.9403 - val_loss: 0.2011 - val_accuracy: 0.9086\n",
            "Epoch 20/20\n",
            "25/25 [==============================] - 0s 8ms/step - loss: 0.1825 - accuracy: 0.9314 - val_loss: 0.1980 - val_accuracy: 0.9036\n"
          ],
          "name": "stdout"
        }
      ]
    },
    {
      "cell_type": "code",
      "metadata": {
        "id": "8tyghgofNPyP",
        "colab_type": "code",
        "colab": {}
      },
      "source": [
        "\n",
        "def plot_learningCurve(history, epoch):\n",
        "  #plot training accuracy values\n",
        "  epoch_range = range(1, epoch+1)\n",
        "  plt.plot(epoch_range, history.history['accuracy'])\n",
        "  plt.plot(epoch_range, history.history['val_accuracy'])\n",
        "  plt.title('model accuracy')\n",
        "  plt.ylabel('accuracy')\n",
        "  plt.xlabel('Epoch')\n",
        "  plt.legend(['Train' , 'val'], loc = 'upper left')\n",
        "  plt.show()\n",
        "  #plot taining loss values\n",
        "  plt.plot(epoch_range, history.history['loss'])\n",
        "  plt.plot(epoch_range, history.history['val_loss'])\n",
        "  plt.title('model loss')\n",
        "  plt.ylabel('Loss')\n",
        "  plt.xlabel('epoch')\n",
        "  plt.legend(['Train', 'val'], loc = 'upper left')\n",
        "  plt.show()"
      ],
      "execution_count": 0,
      "outputs": []
    },
    {
      "cell_type": "code",
      "metadata": {
        "id": "LR2EWvRvNPwK",
        "colab_type": "code",
        "colab": {
          "base_uri": "https://localhost:8080/",
          "height": 573
        },
        "outputId": "3d63b9fa-ec86-4986-d1fc-a1861625801d"
      },
      "source": [
        "plot_learningCurve(history, 20)"
      ],
      "execution_count": 35,
      "outputs": [
        {
          "output_type": "display_data",
          "data": {
            "image/png": "[encoded data removed]",
            "text/plain": [
              "<Figure size 432x288 with 1 Axes>"
            ]
          },
          "metadata": {
            "tags": [],
            "needs_background": "light"
          }
        },
        {
          "output_type": "display_data",
          "data": {
            "image/png": "[encoded data removed]",
            "text/plain": [
              "<Figure size 432x288 with 1 Axes>"
            ]
          },
          "metadata": {
            "tags": [],
            "needs_background": "light"
          }
        }
      ]
    },
    {
      "cell_type": "markdown",
      "metadata": {
        "id": "ihhuhfliX95I",
        "colab_type": "text"
      },
      "source": [
        "**Adding MAxpool**"
      ]
    },
    {
      "cell_type": "code",
      "metadata": {
        "id": "YnvSOY62NPqQ",
        "colab_type": "code",
        "colab": {}
      },
      "source": [
        ""
      ],
      "execution_count": 0,
      "outputs": []
    },
    {
      "cell_type": "code",
      "metadata": {
        "colab_type": "code",
        "id": "YeCrslASYDfJ",
        "colab": {}
      },
      "source": [
        "epochs = 50\n",
        "model = Sequential()\n",
        "model.add(Conv1D(32, 2, activation='relu', input_shape = x_train[0].shape))\n",
        "model.add(BatchNormalization())\n",
        "model.add(MaxPool1D(2))\n",
        "model.add(Dropout(0.2))\n",
        "\n",
        "model.add(Conv1D(64, 2, activation='relu'))\n",
        "model.add(BatchNormalization())\n",
        "model.add(MaxPool1D(2))\n",
        "model.add(Dropout(0.5))\n",
        "\n",
        "model.add(Flatten())\n",
        "model.add(Dense(64, activation='relu'))\n",
        "model.add(Dropout(0.5))\n",
        "\n",
        "model.add(Dense(1, activation='sigmoid'))\n"
      ],
      "execution_count": 0,
      "outputs": []
    },
    {
      "cell_type": "code",
      "metadata": {
        "colab_type": "code",
        "outputId": "7a355a2f-191b-4243-cb58-cdc52513ea28",
        "id": "k0SwqUFwYDfW",
        "colab": {
          "base_uri": "https://localhost:8080/",
          "height": 561
        }
      },
      "source": [
        "model.summary()"
      ],
      "execution_count": 43,
      "outputs": [
        {
          "output_type": "stream",
          "text": [
            "Model: \"sequential_3\"\n",
            "_________________________________________________________________\n",
            "Layer (type)                 Output Shape              Param #   \n",
            "=================================================================\n",
            "conv1d_6 (Conv1D)            (None, 29, 32)            96        \n",
            "_________________________________________________________________\n",
            "batch_normalization_6 (Batch (None, 29, 32)            128       \n",
            "_________________________________________________________________\n",
            "max_pooling1d_2 (MaxPooling1 (None, 14, 32)            0         \n",
            "_________________________________________________________________\n",
            "dropout_9 (Dropout)          (None, 14, 32)            0         \n",
            "_________________________________________________________________\n",
            "conv1d_7 (Conv1D)            (None, 13, 64)            4160      \n",
            "_________________________________________________________________\n",
            "batch_normalization_7 (Batch (None, 13, 64)            256       \n",
            "_________________________________________________________________\n",
            "max_pooling1d_3 (MaxPooling1 (None, 6, 64)             0         \n",
            "_________________________________________________________________\n",
            "dropout_10 (Dropout)         (None, 6, 64)             0         \n",
            "_________________________________________________________________\n",
            "flatten_3 (Flatten)          (None, 384)               0         \n",
            "_________________________________________________________________\n",
            "dense_6 (Dense)              (None, 64)                24640     \n",
            "_________________________________________________________________\n",
            "dropout_11 (Dropout)         (None, 64)                0         \n",
            "_________________________________________________________________\n",
            "dense_7 (Dense)              (None, 1)                 65        \n",
            "=================================================================\n",
            "Total params: 29,345\n",
            "Trainable params: 29,153\n",
            "Non-trainable params: 192\n",
            "_________________________________________________________________\n"
          ],
          "name": "stdout"
        }
      ]
    },
    {
      "cell_type": "code",
      "metadata": {
        "colab_type": "code",
        "id": "y3LumK3wYDfg",
        "colab": {}
      },
      "source": [
        "model.compile(optimizer=Adam(lr = 0.0001), loss='binary_crossentropy', metrics=['accuracy'])"
      ],
      "execution_count": 0,
      "outputs": []
    },
    {
      "cell_type": "code",
      "metadata": {
        "colab_type": "code",
        "outputId": "e0ff527f-282b-4da2-a8aa-0ceca9e78ccb",
        "id": "X4QUDSXkYDfk",
        "colab": {
          "base_uri": "https://localhost:8080/",
          "height": 1000
        }
      },
      "source": [
        "history = model.fit(x_train, y_train, epochs=epochs, verbose= 1, validation_data=(x_test, y_test))"
      ],
      "execution_count": 45,
      "outputs": [
        {
          "output_type": "stream",
          "text": [
            "Epoch 1/50\n",
            "25/25 [==============================] - 0s 11ms/step - loss: 1.0893 - accuracy: 0.5845 - val_loss: 0.6581 - val_accuracy: 0.6650\n",
            "Epoch 2/50\n",
            "25/25 [==============================] - 0s 6ms/step - loss: 0.8955 - accuracy: 0.6226 - val_loss: 0.6315 - val_accuracy: 0.8173\n",
            "Epoch 3/50\n",
            "25/25 [==============================] - 0s 6ms/step - loss: 0.7329 - accuracy: 0.7078 - val_loss: 0.6016 - val_accuracy: 0.8680\n",
            "Epoch 4/50\n",
            "25/25 [==============================] - 0s 5ms/step - loss: 0.6207 - accuracy: 0.7446 - val_loss: 0.5693 - val_accuracy: 0.8680\n",
            "Epoch 5/50\n",
            "25/25 [==============================] - 0s 6ms/step - loss: 0.5970 - accuracy: 0.7662 - val_loss: 0.5318 - val_accuracy: 0.8782\n",
            "Epoch 6/50\n",
            "25/25 [==============================] - 0s 6ms/step - loss: 0.4899 - accuracy: 0.7992 - val_loss: 0.4909 - val_accuracy: 0.8883\n",
            "Epoch 7/50\n",
            "25/25 [==============================] - 0s 6ms/step - loss: 0.4553 - accuracy: 0.8208 - val_loss: 0.4526 - val_accuracy: 0.8731\n",
            "Epoch 8/50\n",
            "25/25 [==============================] - 0s 6ms/step - loss: 0.5099 - accuracy: 0.8183 - val_loss: 0.4181 - val_accuracy: 0.8731\n",
            "Epoch 9/50\n",
            "25/25 [==============================] - 0s 6ms/step - loss: 0.4861 - accuracy: 0.8221 - val_loss: 0.3863 - val_accuracy: 0.8731\n",
            "Epoch 10/50\n",
            "25/25 [==============================] - 0s 6ms/step - loss: 0.4188 - accuracy: 0.8437 - val_loss: 0.3585 - val_accuracy: 0.8782\n",
            "Epoch 11/50\n",
            "25/25 [==============================] - 0s 6ms/step - loss: 0.3749 - accuracy: 0.8780 - val_loss: 0.3375 - val_accuracy: 0.8832\n",
            "Epoch 12/50\n",
            "25/25 [==============================] - 0s 6ms/step - loss: 0.4384 - accuracy: 0.8437 - val_loss: 0.3218 - val_accuracy: 0.8832\n",
            "Epoch 13/50\n",
            "25/25 [==============================] - 0s 6ms/step - loss: 0.4359 - accuracy: 0.8488 - val_loss: 0.3094 - val_accuracy: 0.8883\n",
            "Epoch 14/50\n",
            "25/25 [==============================] - 0s 6ms/step - loss: 0.3966 - accuracy: 0.8539 - val_loss: 0.3005 - val_accuracy: 0.8883\n",
            "Epoch 15/50\n",
            "25/25 [==============================] - 0s 6ms/step - loss: 0.3949 - accuracy: 0.8666 - val_loss: 0.2922 - val_accuracy: 0.8883\n",
            "Epoch 16/50\n",
            "25/25 [==============================] - 0s 6ms/step - loss: 0.3436 - accuracy: 0.8729 - val_loss: 0.2870 - val_accuracy: 0.8934\n",
            "Epoch 17/50\n",
            "25/25 [==============================] - 0s 6ms/step - loss: 0.3400 - accuracy: 0.8691 - val_loss: 0.2836 - val_accuracy: 0.8934\n",
            "Epoch 18/50\n",
            "25/25 [==============================] - 0s 6ms/step - loss: 0.3630 - accuracy: 0.8869 - val_loss: 0.2800 - val_accuracy: 0.8985\n",
            "Epoch 19/50\n",
            "25/25 [==============================] - 0s 6ms/step - loss: 0.3640 - accuracy: 0.8628 - val_loss: 0.2770 - val_accuracy: 0.8985\n",
            "Epoch 20/50\n",
            "25/25 [==============================] - 0s 6ms/step - loss: 0.3064 - accuracy: 0.8920 - val_loss: 0.2751 - val_accuracy: 0.8985\n",
            "Epoch 21/50\n",
            "25/25 [==============================] - 0s 6ms/step - loss: 0.3043 - accuracy: 0.8945 - val_loss: 0.2750 - val_accuracy: 0.8985\n",
            "Epoch 22/50\n",
            "25/25 [==============================] - 0s 6ms/step - loss: 0.3180 - accuracy: 0.8767 - val_loss: 0.2735 - val_accuracy: 0.8985\n",
            "Epoch 23/50\n",
            "25/25 [==============================] - 0s 6ms/step - loss: 0.3707 - accuracy: 0.8767 - val_loss: 0.2701 - val_accuracy: 0.8985\n",
            "Epoch 24/50\n",
            "25/25 [==============================] - 0s 6ms/step - loss: 0.3220 - accuracy: 0.8958 - val_loss: 0.2688 - val_accuracy: 0.9036\n",
            "Epoch 25/50\n",
            "25/25 [==============================] - 0s 5ms/step - loss: 0.3391 - accuracy: 0.8958 - val_loss: 0.2663 - val_accuracy: 0.9086\n",
            "Epoch 26/50\n",
            "25/25 [==============================] - 0s 6ms/step - loss: 0.3003 - accuracy: 0.8933 - val_loss: 0.2650 - val_accuracy: 0.9086\n",
            "Epoch 27/50\n",
            "25/25 [==============================] - 0s 6ms/step - loss: 0.2624 - accuracy: 0.9085 - val_loss: 0.2643 - val_accuracy: 0.9086\n",
            "Epoch 28/50\n",
            "25/25 [==============================] - 0s 7ms/step - loss: 0.3319 - accuracy: 0.8767 - val_loss: 0.2647 - val_accuracy: 0.9086\n",
            "Epoch 29/50\n",
            "25/25 [==============================] - 0s 6ms/step - loss: 0.3329 - accuracy: 0.8895 - val_loss: 0.2633 - val_accuracy: 0.9086\n",
            "Epoch 30/50\n",
            "25/25 [==============================] - 0s 6ms/step - loss: 0.2779 - accuracy: 0.9022 - val_loss: 0.2583 - val_accuracy: 0.9137\n",
            "Epoch 31/50\n",
            "25/25 [==============================] - 0s 6ms/step - loss: 0.3077 - accuracy: 0.8933 - val_loss: 0.2575 - val_accuracy: 0.9137\n",
            "Epoch 32/50\n",
            "25/25 [==============================] - 0s 6ms/step - loss: 0.2914 - accuracy: 0.8958 - val_loss: 0.2583 - val_accuracy: 0.9137\n",
            "Epoch 33/50\n",
            "25/25 [==============================] - 0s 6ms/step - loss: 0.2772 - accuracy: 0.9009 - val_loss: 0.2581 - val_accuracy: 0.9188\n",
            "Epoch 34/50\n",
            "25/25 [==============================] - 0s 6ms/step - loss: 0.2334 - accuracy: 0.9136 - val_loss: 0.2585 - val_accuracy: 0.9188\n",
            "Epoch 35/50\n",
            "25/25 [==============================] - 0s 6ms/step - loss: 0.2684 - accuracy: 0.9047 - val_loss: 0.2562 - val_accuracy: 0.9188\n",
            "Epoch 36/50\n",
            "25/25 [==============================] - 0s 6ms/step - loss: 0.2869 - accuracy: 0.9034 - val_loss: 0.2532 - val_accuracy: 0.9188\n",
            "Epoch 37/50\n",
            "25/25 [==============================] - 0s 6ms/step - loss: 0.2817 - accuracy: 0.9022 - val_loss: 0.2504 - val_accuracy: 0.9188\n",
            "Epoch 38/50\n",
            "25/25 [==============================] - 0s 6ms/step - loss: 0.2446 - accuracy: 0.9085 - val_loss: 0.2506 - val_accuracy: 0.9188\n",
            "Epoch 39/50\n",
            "25/25 [==============================] - 0s 6ms/step - loss: 0.2859 - accuracy: 0.9072 - val_loss: 0.2489 - val_accuracy: 0.9188\n",
            "Epoch 40/50\n",
            "25/25 [==============================] - 0s 6ms/step - loss: 0.2673 - accuracy: 0.8958 - val_loss: 0.2495 - val_accuracy: 0.9137\n",
            "Epoch 41/50\n",
            "25/25 [==============================] - 0s 6ms/step - loss: 0.2507 - accuracy: 0.9009 - val_loss: 0.2491 - val_accuracy: 0.9137\n",
            "Epoch 42/50\n",
            "25/25 [==============================] - 0s 6ms/step - loss: 0.2409 - accuracy: 0.9161 - val_loss: 0.2496 - val_accuracy: 0.9137\n",
            "Epoch 43/50\n",
            "25/25 [==============================] - 0s 6ms/step - loss: 0.3134 - accuracy: 0.9022 - val_loss: 0.2477 - val_accuracy: 0.9137\n",
            "Epoch 44/50\n",
            "25/25 [==============================] - 0s 6ms/step - loss: 0.2491 - accuracy: 0.9161 - val_loss: 0.2469 - val_accuracy: 0.9137\n",
            "Epoch 45/50\n",
            "25/25 [==============================] - 0s 6ms/step - loss: 0.2536 - accuracy: 0.9136 - val_loss: 0.2473 - val_accuracy: 0.9137\n",
            "Epoch 46/50\n",
            "25/25 [==============================] - 0s 6ms/step - loss: 0.2369 - accuracy: 0.9149 - val_loss: 0.2465 - val_accuracy: 0.9137\n",
            "Epoch 47/50\n",
            "25/25 [==============================] - 0s 6ms/step - loss: 0.2508 - accuracy: 0.9047 - val_loss: 0.2450 - val_accuracy: 0.9137\n",
            "Epoch 48/50\n",
            "25/25 [==============================] - 0s 6ms/step - loss: 0.2477 - accuracy: 0.9187 - val_loss: 0.2433 - val_accuracy: 0.9188\n",
            "Epoch 49/50\n",
            "25/25 [==============================] - 0s 6ms/step - loss: 0.2427 - accuracy: 0.9111 - val_loss: 0.2420 - val_accuracy: 0.9188\n",
            "Epoch 50/50\n",
            "25/25 [==============================] - 0s 6ms/step - loss: 0.2610 - accuracy: 0.9072 - val_loss: 0.2392 - val_accuracy: 0.9188\n"
          ],
          "name": "stdout"
        }
      ]
    },
    {
      "cell_type": "code",
      "metadata": {
        "id": "_jepufF-NPnr",
        "colab_type": "code",
        "colab": {
          "base_uri": "https://localhost:8080/",
          "height": 573
        },
        "outputId": "5ee40734-0bdc-4b68-e4ce-fe3886f0c9bd"
      },
      "source": [
        "plot_learningCurve(history, 50)"
      ],
      "execution_count": 47,
      "outputs": [
        {
          "output_type": "display_data",
          "data": {
            "image/png": "[encoded data removed]",
            "text/plain": [
              "<Figure size 432x288 with 1 Axes>"
            ]
          },
          "metadata": {
            "tags": [],
            "needs_background": "light"
          }
        },
        {
          "output_type": "display_data",
          "data": {
            "image/png": "[encoded data removed]",
            "text/plain": [
              "<Figure size 432x288 with 1 Axes>"
            ]
          },
          "metadata": {
            "tags": [],
            "needs_background": "light"
          }
        }
      ]
    },
    {
      "cell_type": "code",
      "metadata": {
        "id": "quhZzodbNPl0",
        "colab_type": "code",
        "colab": {}
      },
      "source": [
        ""
      ],
      "execution_count": 0,
      "outputs": []
    },
    {
      "cell_type": "code",
      "metadata": {
        "id": "s8GA0RxwNPji",
        "colab_type": "code",
        "colab": {}
      },
      "source": [
        ""
      ],
      "execution_count": 0,
      "outputs": []
    },
    {
      "cell_type": "code",
      "metadata": {
        "id": "UdYO9yMBNPdP",
        "colab_type": "code",
        "colab": {}
      },
      "source": [
        ""
      ],
      "execution_count": 0,
      "outputs": []
    },
    {
      "cell_type": "code",
      "metadata": {
        "id": "qhySokyPNPbE",
        "colab_type": "code",
        "colab": {}
      },
      "source": [
        ""
      ],
      "execution_count": 0,
      "outputs": []
    },
    {
      "cell_type": "code",
      "metadata": {
        "id": "AWOWRg2hNPT1",
        "colab_type": "code",
        "colab": {}
      },
      "source": [
        ""
      ],
      "execution_count": 0,
      "outputs": []
    },
    {
      "cell_type": "code",
      "metadata": {
        "id": "v6L498Y4NPRp",
        "colab_type": "code",
        "colab": {}
      },
      "source": [
        ""
      ],
      "execution_count": 0,
      "outputs": []
    },
    {
      "cell_type": "code",
      "metadata": {
        "id": "hiz93b6qNPOW",
        "colab_type": "code",
        "colab": {}
      },
      "source": [
        ""
      ],
      "execution_count": 0,
      "outputs": []
    },
    {
      "cell_type": "code",
      "metadata": {
        "id": "MxZQmbb8NPH6",
        "colab_type": "code",
        "colab": {}
      },
      "source": [
        ""
      ],
      "execution_count": 0,
      "outputs": []
    },
    {
      "cell_type": "code",
      "metadata": {
        "id": "7m1Xr1M1NPGo",
        "colab_type": "code",
        "colab": {}
      },
      "source": [
        ""
      ],
      "execution_count": 0,
      "outputs": []
    },
    {
      "cell_type": "code",
      "metadata": {
        "id": "ABXsVMFsNPCu",
        "colab_type": "code",
        "colab": {}
      },
      "source": [
        ""
      ],
      "execution_count": 0,
      "outputs": []
    },
    {
      "cell_type": "code",
      "metadata": {
        "id": "8yx73nNPNO7h",
        "colab_type": "code",
        "colab": {}
      },
      "source": [
        ""
      ],
      "execution_count": 0,
      "outputs": []
    },
    {
      "cell_type": "code",
      "metadata": {
        "id": "lcEQiPFONO6B",
        "colab_type": "code",
        "colab": {}
      },
      "source": [
        ""
      ],
      "execution_count": 0,
      "outputs": []
    },
    {
      "cell_type": "code",
      "metadata": {
        "id": "2TgqDzQQNO4F",
        "colab_type": "code",
        "colab": {}
      },
      "source": [
        ""
      ],
      "execution_count": 0,
      "outputs": []
    },
    {
      "cell_type": "code",
      "metadata": {
        "id": "aS1TS3mTNO0u",
        "colab_type": "code",
        "colab": {}
      },
      "source": [
        ""
      ],
      "execution_count": 0,
      "outputs": []
    },
    {
      "cell_type": "code",
      "metadata": {
        "id": "ZvQn4nM0NOvK",
        "colab_type": "code",
        "colab": {}
      },
      "source": [
        ""
      ],
      "execution_count": 0,
      "outputs": []
    },
    {
      "cell_type": "code",
      "metadata": {
        "id": "KRDgHufJNOtS",
        "colab_type": "code",
        "colab": {}
      },
      "source": [
        ""
      ],
      "execution_count": 0,
      "outputs": []
    },
    {
      "cell_type": "code",
      "metadata": {
        "id": "E_jln7CLNOoC",
        "colab_type": "code",
        "colab": {}
      },
      "source": [
        ""
      ],
      "execution_count": 0,
      "outputs": []
    },
    {
      "cell_type": "code",
      "metadata": {
        "id": "QiV3bYXzNOlr",
        "colab_type": "code",
        "colab": {}
      },
      "source": [
        ""
      ],
      "execution_count": 0,
      "outputs": []
    },
    {
      "cell_type": "code",
      "metadata": {
        "id": "9DVq4KmgNOj_",
        "colab_type": "code",
        "colab": {}
      },
      "source": [
        ""
      ],
      "execution_count": 0,
      "outputs": []
    },
    {
      "cell_type": "code",
      "metadata": {
        "id": "NSaHVkNCNOh_",
        "colab_type": "code",
        "colab": {}
      },
      "source": [
        ""
      ],
      "execution_count": 0,
      "outputs": []
    },
    {
      "cell_type": "code",
      "metadata": {
        "id": "SNqB3y6INOdh",
        "colab_type": "code",
        "colab": {}
      },
      "source": [
        ""
      ],
      "execution_count": 0,
      "outputs": []
    }
  ]
}