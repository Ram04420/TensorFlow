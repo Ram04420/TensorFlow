{
  "nbformat": 4,
  "nbformat_minor": 0,
  "metadata": {
    "colab": {
      "name": "IMDB Sentiment Classification using RNN-LSTM.ipynb",
      "provenance": [],
      "collapsed_sections": [],
      "authorship_tag": "ABX9TyMxOfV3TmSIcRjvBab80X9D",
      "include_colab_link": true
    },
    "kernelspec": {
      "name": "python3",
      "display_name": "Python 3"
    },
    "accelerator": "GPU"
  },
  "cells": [
    {
      "cell_type": "markdown",
      "metadata": {
        "id": "view-in-github",
        "colab_type": "text"
      },
      "source": [
        "<a href=\"https://colab.research.google.com/github/Ram04420/TensorFlow/blob/master/IMDB_Sentiment_Classification_using_RNN_LSTM.ipynb\" target=\"_parent\"><img src=\"https://colab.research.google.com/assets/colab-badge.svg\" alt=\"Open In Colab\"/></a>"
      ]
    },
    {
      "cell_type": "code",
      "metadata": {
        "id": "1dy08lp-uL8d",
        "colab_type": "code",
        "colab": {}
      },
      "source": [
        "import tensorflow as tf"
      ],
      "execution_count": 0,
      "outputs": []
    },
    {
      "cell_type": "code",
      "metadata": {
        "id": "5-Nx5tiAuora",
        "colab_type": "code",
        "colab": {}
      },
      "source": [
        "import numpy as np\n",
        "import pandas as pd\n",
        "import matplotlib.pyplot as plt\n",
        "from tensorflow.keras.datasets import imdb\n",
        "from tensorflow.keras.preprocessing.sequence import pad_sequences\n",
        "from tensorflow.keras.models import Sequential\n",
        "from tensorflow.keras.layers import Dense, Dropout, Embedding, LSTM"
      ],
      "execution_count": 0,
      "outputs": []
    },
    {
      "cell_type": "markdown",
      "metadata": {
        "id": "0lTBHxzzvnmo",
        "colab_type": "text"
      },
      "source": [
        "**Data Preprocessing**"
      ]
    },
    {
      "cell_type": "code",
      "metadata": {
        "id": "QEy_wTC1vkTi",
        "colab_type": "code",
        "colab": {
          "base_uri": "https://localhost:8080/",
          "height": 51
        },
        "outputId": "4224004f-3f80-45f8-b9a2-31c19d011daa"
      },
      "source": [
        "(x_train, y_train), (x_test, y_test) = imdb.load_data(num_words=20000)"
      ],
      "execution_count": 3,
      "outputs": [
        {
          "output_type": "stream",
          "text": [
            "Downloading data from https://storage.googleapis.com/tensorflow/tf-keras-datasets/imdb.npz\n",
            "17465344/17464789 [==============================] - 0s 0us/step\n"
          ],
          "name": "stdout"
        }
      ]
    },
    {
      "cell_type": "code",
      "metadata": {
        "id": "g1ySIWo7wNj0",
        "colab_type": "code",
        "colab": {}
      },
      "source": [
        "x_train = pad_sequences(x_train, maxlen=100)\n",
        "x_test = pad_sequences(x_test, maxlen=100)"
      ],
      "execution_count": 0,
      "outputs": []
    },
    {
      "cell_type": "code",
      "metadata": {
        "id": "cBK7bsdCxCTT",
        "colab_type": "code",
        "colab": {
          "base_uri": "https://localhost:8080/",
          "height": 34
        },
        "outputId": "19183f97-8800-4510-8746-d6428bfed044"
      },
      "source": [
        "x_train.shape"
      ],
      "execution_count": 5,
      "outputs": [
        {
          "output_type": "execute_result",
          "data": {
            "text/plain": [
              "(25000, 100)"
            ]
          },
          "metadata": {
            "tags": []
          },
          "execution_count": 5
        }
      ]
    },
    {
      "cell_type": "code",
      "metadata": {
        "id": "bku64FlhxEPc",
        "colab_type": "code",
        "colab": {}
      },
      "source": [
        "vocab_size = 20000\n",
        "embadded_size = 128"
      ],
      "execution_count": 0,
      "outputs": []
    },
    {
      "cell_type": "markdown",
      "metadata": {
        "id": "1uHB7zwgxsPl",
        "colab_type": "text"
      },
      "source": [
        "**Build LSTM**"
      ]
    },
    {
      "cell_type": "code",
      "metadata": {
        "id": "VffObQ9QxoA4",
        "colab_type": "code",
        "colab": {}
      },
      "source": [
        "model = Sequential()\n",
        "model.add(Embedding(vocab_size, embadded_size, input_shape = (x_train.shape[1],)))\n",
        "model.add(LSTM(60, activation='tanh'))\n",
        "model.add(Dense(1, activation='sigmoid'))\n",
        "model.compile(optimizer='adam', loss= 'binary_crossentropy', metrics=['accuracy'])"
      ],
      "execution_count": 0,
      "outputs": []
    },
    {
      "cell_type": "code",
      "metadata": {
        "id": "JfrHv7nCx_pO",
        "colab_type": "code",
        "colab": {
          "base_uri": "https://localhost:8080/",
          "height": 255
        },
        "outputId": "fd835dec-a4c5-48dd-9ec5-1b6fd5bfb7af"
      },
      "source": [
        "model.summary()"
      ],
      "execution_count": 15,
      "outputs": [
        {
          "output_type": "stream",
          "text": [
            "Model: \"sequential_3\"\n",
            "_________________________________________________________________\n",
            "Layer (type)                 Output Shape              Param #   \n",
            "=================================================================\n",
            "embedding_2 (Embedding)      (None, 100, 128)          2560000   \n",
            "_________________________________________________________________\n",
            "lstm_1 (LSTM)                (None, 60)                45360     \n",
            "_________________________________________________________________\n",
            "dense (Dense)                (None, 1)                 61        \n",
            "=================================================================\n",
            "Total params: 2,605,421\n",
            "Trainable params: 2,605,421\n",
            "Non-trainable params: 0\n",
            "_________________________________________________________________\n"
          ],
          "name": "stdout"
        }
      ]
    },
    {
      "cell_type": "code",
      "metadata": {
        "id": "19zwOCdl0KE-",
        "colab_type": "code",
        "colab": {
          "base_uri": "https://localhost:8080/",
          "height": 187
        },
        "outputId": "d9e7451b-3802-40e2-8d98-0d37b640c547"
      },
      "source": [
        "history = model.fit(x_train, y_train, batch_size=128, validation_data=(x_test, y_test), epochs=5)"
      ],
      "execution_count": 16,
      "outputs": [
        {
          "output_type": "stream",
          "text": [
            "Epoch 1/5\n",
            "196/196 [==============================] - 10s 50ms/step - loss: 0.4309 - accuracy: 0.7876 - val_loss: 0.3421 - val_accuracy: 0.8520\n",
            "Epoch 2/5\n",
            "196/196 [==============================] - 9s 46ms/step - loss: 0.2342 - accuracy: 0.9091 - val_loss: 0.3514 - val_accuracy: 0.8470\n",
            "Epoch 3/5\n",
            "196/196 [==============================] - 9s 47ms/step - loss: 0.1502 - accuracy: 0.9453 - val_loss: 0.4096 - val_accuracy: 0.8390\n",
            "Epoch 4/5\n",
            "196/196 [==============================] - 9s 48ms/step - loss: 0.0983 - accuracy: 0.9666 - val_loss: 0.5357 - val_accuracy: 0.8311\n",
            "Epoch 5/5\n",
            "196/196 [==============================] - 9s 48ms/step - loss: 0.0645 - accuracy: 0.9788 - val_loss: 0.5728 - val_accuracy: 0.8280\n"
          ],
          "name": "stdout"
        }
      ]
    },
    {
      "cell_type": "code",
      "metadata": {
        "id": "zTVwYsBk0wn1",
        "colab_type": "code",
        "colab": {
          "base_uri": "https://localhost:8080/",
          "height": 357
        },
        "outputId": "e993592c-6eec-49f0-b291-7034c6b8fb55"
      },
      "source": [
        "history.history"
      ],
      "execution_count": 17,
      "outputs": [
        {
          "output_type": "execute_result",
          "data": {
            "text/plain": [
              "{'accuracy': [0.7876399755477905,\n",
              "  0.9091200232505798,\n",
              "  0.9453200101852417,\n",
              "  0.9666000008583069,\n",
              "  0.9788399934768677],\n",
              " 'loss': [0.43088340759277344,\n",
              "  0.2341618537902832,\n",
              "  0.150241881608963,\n",
              "  0.09832990169525146,\n",
              "  0.06449353694915771],\n",
              " 'val_accuracy': [0.8519600033760071,\n",
              "  0.8469600081443787,\n",
              "  0.8389599919319153,\n",
              "  0.8311200141906738,\n",
              "  0.8280400037765503],\n",
              " 'val_loss': [0.3421158194541931,\n",
              "  0.35137641429901123,\n",
              "  0.40955930948257446,\n",
              "  0.535650908946991,\n",
              "  0.5727538466453552]}"
            ]
          },
          "metadata": {
            "tags": []
          },
          "execution_count": 17
        }
      ]
    },
    {
      "cell_type": "code",
      "metadata": {
        "id": "KiqWyNU_1Gil",
        "colab_type": "code",
        "colab": {}
      },
      "source": [
        "\n",
        "def plot_learningCurve(history, epoch):\n",
        "  #plot training accuracy values\n",
        "  epoch_range = range(1, epoch+1)\n",
        "  plt.plot(epoch_range, history.history['accuracy'])\n",
        "  plt.plot(epoch_range, history.history['val_accuracy'])\n",
        "  plt.title('model accuracy')\n",
        "  plt.ylabel('accuracy')\n",
        "  plt.xlabel('Epoch')\n",
        "  plt.legend(['Train' , 'val'], loc = 'upper left')\n",
        "  plt.show()\n",
        "  #plot taining loss values\n",
        "  plt.plot(epoch_range, history.history['loss'])\n",
        "  plt.plot(epoch_range, history.history['val_loss'])\n",
        "  plt.title('model loss')\n",
        "  plt.ylabel('Loss')\n",
        "  plt.xlabel('epoch')\n",
        "  plt.legend(['Train', 'val'], loc = 'upper left')\n",
        "  plt.show()\n"
      ],
      "execution_count": 0,
      "outputs": []
    },
    {
      "cell_type": "code",
      "metadata": {
        "id": "jQXR3yE31e5n",
        "colab_type": "code",
        "colab": {
          "base_uri": "https://localhost:8080/",
          "height": 573
        },
        "outputId": "27d7be7a-254a-4edb-8bcc-68b0521482a9"
      },
      "source": [
        "plot_learningCurve(history, 5)"
      ],
      "execution_count": 20,
      "outputs": [
        {
          "output_type": "display_data",
          "data": {
            "image/png": "[encoded data removed]",
            "text/plain": [
              "<Figure size 432x288 with 1 Axes>"
            ]
          },
          "metadata": {
            "tags": [],
            "needs_background": "light"
          }
        },
        {
          "output_type": "display_data",
          "data": {
            "image/png": "[encoded data removed]",
            "text/plain": [
              "<Figure size 432x288 with 1 Axes>"
            ]
          },
          "metadata": {
            "tags": [],
            "needs_background": "light"
          }
        }
      ]
    },
    {
      "cell_type": "code",
      "metadata": {
        "id": "l_vAcMRd1l35",
        "colab_type": "code",
        "colab": {}
      },
      "source": [
        ""
      ],
      "execution_count": 0,
      "outputs": []
    }
  ]
}