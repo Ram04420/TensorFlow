{
  "nbformat": 4,
  "nbformat_minor": 0,
  "metadata": {
    "colab": {
      "name": "Air Passengers Predication using RNN & LSTM.ipynb",
      "provenance": [],
      "collapsed_sections": [],
      "authorship_tag": "ABX9TyO7n6HUGO2KRqgISlhHkaJP",
      "include_colab_link": true
    },
    "kernelspec": {
      "name": "python3",
      "display_name": "Python 3"
    }
  },
  "cells": [
    {
      "cell_type": "markdown",
      "metadata": {
        "id": "view-in-github",
        "colab_type": "text"
      },
      "source": [
        "<a href=\"https://colab.research.google.com/github/Ram04420/TensorFlow/blob/master/Air_Passengers_Predication_using_RNN_%26_LSTM.ipynb\" target=\"_parent\"><img src=\"https://colab.research.google.com/assets/colab-badge.svg\" alt=\"Open In Colab\"/></a>"
      ]
    },
    {
      "cell_type": "code",
      "metadata": {
        "id": "OcMYlMC4Sw98",
        "colab_type": "code",
        "colab": {}
      },
      "source": [
        "import pandas as pd\n",
        "import numpy as np\n",
        "import matplotlib.pyplot as plt\n",
        "import tensorflow as tf\n",
        "from tensorflow.keras.models import Sequential\n",
        "from tensorflow.keras.layers import Dense, LSTM\n",
        "from sklearn.preprocessing import MinMaxScaler"
      ],
      "execution_count": 0,
      "outputs": []
    },
    {
      "cell_type": "code",
      "metadata": {
        "id": "bM5ObZR-U-SB",
        "colab_type": "code",
        "colab": {
          "base_uri": "https://localhost:8080/",
          "height": 204
        },
        "outputId": "08e88429-d70a-420e-c1f5-4b4be2935570"
      },
      "source": [
        "dataset = pd.read_csv('/content/AirPassengers.csv')\n",
        "dataset.head()"
      ],
      "execution_count": 110,
      "outputs": [
        {
          "output_type": "execute_result",
          "data": {
            "text/html": [
              "<div>\n",
              "<style scoped>\n",
              "    .dataframe tbody tr th:only-of-type {\n",
              "        vertical-align: middle;\n",
              "    }\n",
              "\n",
              "    .dataframe tbody tr th {\n",
              "        vertical-align: top;\n",
              "    }\n",
              "\n",
              "    .dataframe thead th {\n",
              "        text-align: right;\n",
              "    }\n",
              "</style>\n",
              "<table border=\"1\" class=\"dataframe\">\n",
              "  <thead>\n",
              "    <tr style=\"text-align: right;\">\n",
              "      <th></th>\n",
              "      <th>Month</th>\n",
              "      <th>#Passengers</th>\n",
              "    </tr>\n",
              "  </thead>\n",
              "  <tbody>\n",
              "    <tr>\n",
              "      <th>0</th>\n",
              "      <td>1949-01</td>\n",
              "      <td>112</td>\n",
              "    </tr>\n",
              "    <tr>\n",
              "      <th>1</th>\n",
              "      <td>1949-02</td>\n",
              "      <td>118</td>\n",
              "    </tr>\n",
              "    <tr>\n",
              "      <th>2</th>\n",
              "      <td>1949-03</td>\n",
              "      <td>132</td>\n",
              "    </tr>\n",
              "    <tr>\n",
              "      <th>3</th>\n",
              "      <td>1949-04</td>\n",
              "      <td>129</td>\n",
              "    </tr>\n",
              "    <tr>\n",
              "      <th>4</th>\n",
              "      <td>1949-05</td>\n",
              "      <td>121</td>\n",
              "    </tr>\n",
              "  </tbody>\n",
              "</table>\n",
              "</div>"
            ],
            "text/plain": [
              "     Month  #Passengers\n",
              "0  1949-01          112\n",
              "1  1949-02          118\n",
              "2  1949-03          132\n",
              "3  1949-04          129\n",
              "4  1949-05          121"
            ]
          },
          "metadata": {
            "tags": []
          },
          "execution_count": 110
        }
      ]
    },
    {
      "cell_type": "code",
      "metadata": {
        "id": "Ja9OCuj4VFeK",
        "colab_type": "code",
        "colab": {
          "base_uri": "https://localhost:8080/",
          "height": 119
        },
        "outputId": "628b90e1-7c35-470f-bc41-84a1dd494c55"
      },
      "source": [
        "dataset = dataset['#Passengers']\n",
        "dataset.head()"
      ],
      "execution_count": 111,
      "outputs": [
        {
          "output_type": "execute_result",
          "data": {
            "text/plain": [
              "0    112\n",
              "1    118\n",
              "2    132\n",
              "3    129\n",
              "4    121\n",
              "Name: #Passengers, dtype: int64"
            ]
          },
          "metadata": {
            "tags": []
          },
          "execution_count": 111
        }
      ]
    },
    {
      "cell_type": "code",
      "metadata": {
        "id": "invq3nVGVFhS",
        "colab_type": "code",
        "colab": {}
      },
      "source": [
        "dataset = np.array(dataset).reshape(-1, 1)"
      ],
      "execution_count": 0,
      "outputs": []
    },
    {
      "cell_type": "code",
      "metadata": {
        "id": "tXiKGo8PVFqo",
        "colab_type": "code",
        "colab": {
          "base_uri": "https://localhost:8080/",
          "height": 1000
        },
        "outputId": "ce8ae4e4-79b2-4080-c1db-84a28b59fd91"
      },
      "source": [
        "dataset"
      ],
      "execution_count": 113,
      "outputs": [
        {
          "output_type": "execute_result",
          "data": {
            "text/plain": [
              "array([[112],\n",
              "       [118],\n",
              "       [132],\n",
              "       [129],\n",
              "       [121],\n",
              "       [135],\n",
              "       [148],\n",
              "       [148],\n",
              "       [136],\n",
              "       [119],\n",
              "       [104],\n",
              "       [118],\n",
              "       [115],\n",
              "       [126],\n",
              "       [141],\n",
              "       [135],\n",
              "       [125],\n",
              "       [149],\n",
              "       [170],\n",
              "       [170],\n",
              "       [158],\n",
              "       [133],\n",
              "       [114],\n",
              "       [140],\n",
              "       [145],\n",
              "       [150],\n",
              "       [178],\n",
              "       [163],\n",
              "       [172],\n",
              "       [178],\n",
              "       [199],\n",
              "       [199],\n",
              "       [184],\n",
              "       [162],\n",
              "       [146],\n",
              "       [166],\n",
              "       [171],\n",
              "       [180],\n",
              "       [193],\n",
              "       [181],\n",
              "       [183],\n",
              "       [218],\n",
              "       [230],\n",
              "       [242],\n",
              "       [209],\n",
              "       [191],\n",
              "       [172],\n",
              "       [194],\n",
              "       [196],\n",
              "       [196],\n",
              "       [236],\n",
              "       [235],\n",
              "       [229],\n",
              "       [243],\n",
              "       [264],\n",
              "       [272],\n",
              "       [237],\n",
              "       [211],\n",
              "       [180],\n",
              "       [201],\n",
              "       [204],\n",
              "       [188],\n",
              "       [235],\n",
              "       [227],\n",
              "       [234],\n",
              "       [264],\n",
              "       [302],\n",
              "       [293],\n",
              "       [259],\n",
              "       [229],\n",
              "       [203],\n",
              "       [229],\n",
              "       [242],\n",
              "       [233],\n",
              "       [267],\n",
              "       [269],\n",
              "       [270],\n",
              "       [315],\n",
              "       [364],\n",
              "       [347],\n",
              "       [312],\n",
              "       [274],\n",
              "       [237],\n",
              "       [278],\n",
              "       [284],\n",
              "       [277],\n",
              "       [317],\n",
              "       [313],\n",
              "       [318],\n",
              "       [374],\n",
              "       [413],\n",
              "       [405],\n",
              "       [355],\n",
              "       [306],\n",
              "       [271],\n",
              "       [306],\n",
              "       [315],\n",
              "       [301],\n",
              "       [356],\n",
              "       [348],\n",
              "       [355],\n",
              "       [422],\n",
              "       [465],\n",
              "       [467],\n",
              "       [404],\n",
              "       [347],\n",
              "       [305],\n",
              "       [336],\n",
              "       [340],\n",
              "       [318],\n",
              "       [362],\n",
              "       [348],\n",
              "       [363],\n",
              "       [435],\n",
              "       [491],\n",
              "       [505],\n",
              "       [404],\n",
              "       [359],\n",
              "       [310],\n",
              "       [337],\n",
              "       [360],\n",
              "       [342],\n",
              "       [406],\n",
              "       [396],\n",
              "       [420],\n",
              "       [472],\n",
              "       [548],\n",
              "       [559],\n",
              "       [463],\n",
              "       [407],\n",
              "       [362],\n",
              "       [405],\n",
              "       [417],\n",
              "       [391],\n",
              "       [419],\n",
              "       [461],\n",
              "       [472],\n",
              "       [535],\n",
              "       [622],\n",
              "       [606],\n",
              "       [508],\n",
              "       [461],\n",
              "       [390],\n",
              "       [432]])"
            ]
          },
          "metadata": {
            "tags": []
          },
          "execution_count": 113
        }
      ]
    },
    {
      "cell_type": "code",
      "metadata": {
        "id": "kbC00Q9bVF27",
        "colab_type": "code",
        "colab": {
          "base_uri": "https://localhost:8080/",
          "height": 282
        },
        "outputId": "87e6b476-917b-4c97-fb36-d6e01711b36b"
      },
      "source": [
        "plt.plot(dataset)"
      ],
      "execution_count": 114,
      "outputs": [
        {
          "output_type": "execute_result",
          "data": {
            "text/plain": [
              "[<matplotlib.lines.Line2D at 0x7fd0a6fc7e48>]"
            ]
          },
          "metadata": {
            "tags": []
          },
          "execution_count": 114
        },
        {
          "output_type": "display_data",
          "data": {
            "image/png": "[encoded data removed]",
            "text/plain": [
              "<Figure size 432x288 with 1 Axes>"
            ]
          },
          "metadata": {
            "tags": [],
            "needs_background": "light"
          }
        }
      ]
    },
    {
      "cell_type": "code",
      "metadata": {
        "id": "Myz8xuEMVF1c",
        "colab_type": "code",
        "colab": {
          "base_uri": "https://localhost:8080/",
          "height": 1000
        },
        "outputId": "3cec39bb-1e70-4d33-dd5a-b9e78ed9f308"
      },
      "source": [
        "scaler = MinMaxScaler()\n",
        "dataset = scaler.fit_transform(dataset)\n",
        "dataset"
      ],
      "execution_count": 115,
      "outputs": [
        {
          "output_type": "execute_result",
          "data": {
            "text/plain": [
              "array([[0.01544402],\n",
              "       [0.02702703],\n",
              "       [0.05405405],\n",
              "       [0.04826255],\n",
              "       [0.03281853],\n",
              "       [0.05984556],\n",
              "       [0.08494208],\n",
              "       [0.08494208],\n",
              "       [0.06177606],\n",
              "       [0.02895753],\n",
              "       [0.        ],\n",
              "       [0.02702703],\n",
              "       [0.02123552],\n",
              "       [0.04247104],\n",
              "       [0.07142857],\n",
              "       [0.05984556],\n",
              "       [0.04054054],\n",
              "       [0.08687259],\n",
              "       [0.12741313],\n",
              "       [0.12741313],\n",
              "       [0.1042471 ],\n",
              "       [0.05598456],\n",
              "       [0.01930502],\n",
              "       [0.06949807],\n",
              "       [0.07915058],\n",
              "       [0.08880309],\n",
              "       [0.14285714],\n",
              "       [0.11389961],\n",
              "       [0.13127413],\n",
              "       [0.14285714],\n",
              "       [0.18339768],\n",
              "       [0.18339768],\n",
              "       [0.15444015],\n",
              "       [0.11196911],\n",
              "       [0.08108108],\n",
              "       [0.11969112],\n",
              "       [0.12934363],\n",
              "       [0.14671815],\n",
              "       [0.17181467],\n",
              "       [0.14864865],\n",
              "       [0.15250965],\n",
              "       [0.22007722],\n",
              "       [0.24324324],\n",
              "       [0.26640927],\n",
              "       [0.2027027 ],\n",
              "       [0.16795367],\n",
              "       [0.13127413],\n",
              "       [0.17374517],\n",
              "       [0.17760618],\n",
              "       [0.17760618],\n",
              "       [0.25482625],\n",
              "       [0.25289575],\n",
              "       [0.24131274],\n",
              "       [0.26833977],\n",
              "       [0.30888031],\n",
              "       [0.32432432],\n",
              "       [0.25675676],\n",
              "       [0.20656371],\n",
              "       [0.14671815],\n",
              "       [0.18725869],\n",
              "       [0.19305019],\n",
              "       [0.16216216],\n",
              "       [0.25289575],\n",
              "       [0.23745174],\n",
              "       [0.25096525],\n",
              "       [0.30888031],\n",
              "       [0.38223938],\n",
              "       [0.36486486],\n",
              "       [0.2992278 ],\n",
              "       [0.24131274],\n",
              "       [0.19111969],\n",
              "       [0.24131274],\n",
              "       [0.26640927],\n",
              "       [0.24903475],\n",
              "       [0.31467181],\n",
              "       [0.31853282],\n",
              "       [0.32046332],\n",
              "       [0.40733591],\n",
              "       [0.5019305 ],\n",
              "       [0.46911197],\n",
              "       [0.4015444 ],\n",
              "       [0.32818533],\n",
              "       [0.25675676],\n",
              "       [0.33590734],\n",
              "       [0.34749035],\n",
              "       [0.33397683],\n",
              "       [0.41119691],\n",
              "       [0.4034749 ],\n",
              "       [0.41312741],\n",
              "       [0.52123552],\n",
              "       [0.5965251 ],\n",
              "       [0.58108108],\n",
              "       [0.48455598],\n",
              "       [0.38996139],\n",
              "       [0.32239382],\n",
              "       [0.38996139],\n",
              "       [0.40733591],\n",
              "       [0.38030888],\n",
              "       [0.48648649],\n",
              "       [0.47104247],\n",
              "       [0.48455598],\n",
              "       [0.61389961],\n",
              "       [0.6969112 ],\n",
              "       [0.7007722 ],\n",
              "       [0.57915058],\n",
              "       [0.46911197],\n",
              "       [0.38803089],\n",
              "       [0.44787645],\n",
              "       [0.45559846],\n",
              "       [0.41312741],\n",
              "       [0.4980695 ],\n",
              "       [0.47104247],\n",
              "       [0.5       ],\n",
              "       [0.63899614],\n",
              "       [0.74710425],\n",
              "       [0.77413127],\n",
              "       [0.57915058],\n",
              "       [0.49227799],\n",
              "       [0.3976834 ],\n",
              "       [0.44980695],\n",
              "       [0.49420849],\n",
              "       [0.45945946],\n",
              "       [0.58301158],\n",
              "       [0.56370656],\n",
              "       [0.61003861],\n",
              "       [0.71042471],\n",
              "       [0.85714286],\n",
              "       [0.87837838],\n",
              "       [0.69305019],\n",
              "       [0.58494208],\n",
              "       [0.4980695 ],\n",
              "       [0.58108108],\n",
              "       [0.6042471 ],\n",
              "       [0.55405405],\n",
              "       [0.60810811],\n",
              "       [0.68918919],\n",
              "       [0.71042471],\n",
              "       [0.83204633],\n",
              "       [1.        ],\n",
              "       [0.96911197],\n",
              "       [0.77992278],\n",
              "       [0.68918919],\n",
              "       [0.55212355],\n",
              "       [0.63320463]])"
            ]
          },
          "metadata": {
            "tags": []
          },
          "execution_count": 115
        }
      ]
    },
    {
      "cell_type": "code",
      "metadata": {
        "id": "OsUtsuzeVFzo",
        "colab_type": "code",
        "colab": {}
      },
      "source": [
        "train_size = 100\n",
        "test_size = 44"
      ],
      "execution_count": 0,
      "outputs": []
    },
    {
      "cell_type": "code",
      "metadata": {
        "id": "Zk0OgMs1VFx5",
        "colab_type": "code",
        "colab": {}
      },
      "source": [
        "train = dataset[0:train_size, :]\n",
        "test = dataset[train_size:144, :]"
      ],
      "execution_count": 0,
      "outputs": []
    },
    {
      "cell_type": "code",
      "metadata": {
        "id": "IQu-AZaEVFv_",
        "colab_type": "code",
        "colab": {
          "base_uri": "https://localhost:8080/",
          "height": 34
        },
        "outputId": "6ac153bd-49db-40fd-df27-a8b418ed3b66"
      },
      "source": [
        "train.shape, test.shape"
      ],
      "execution_count": 118,
      "outputs": [
        {
          "output_type": "execute_result",
          "data": {
            "text/plain": [
              "((100, 1), (44, 1))"
            ]
          },
          "metadata": {
            "tags": []
          },
          "execution_count": 118
        }
      ]
    },
    {
      "cell_type": "code",
      "metadata": {
        "id": "VbIp824VVFuo",
        "colab_type": "code",
        "colab": {}
      },
      "source": [
        "def get_data(dataset, look_back):\n",
        "  dataX, dataY = [],[]\n",
        "  for i in range(len(dataset)-look_back-1):\n",
        "    a = dataset[i:(i+look_back), 0]\n",
        "    dataX.append(a)\n",
        "    dataY.append(dataset[i+look_back, 0])\n",
        "  return np.array(dataX), np.array(dataY)"
      ],
      "execution_count": 0,
      "outputs": []
    },
    {
      "cell_type": "code",
      "metadata": {
        "id": "9baLqV0MVFtL",
        "colab_type": "code",
        "colab": {}
      },
      "source": [
        "look_back =1\n",
        "X_train, y_train =get_data(train, look_back)"
      ],
      "execution_count": 0,
      "outputs": []
    },
    {
      "cell_type": "code",
      "metadata": {
        "id": "c_z17PeOVFpF",
        "colab_type": "code",
        "colab": {
          "base_uri": "https://localhost:8080/",
          "height": 1000
        },
        "outputId": "54b06242-0c53-4ed6-d966-256d38a83301"
      },
      "source": [
        "X_train"
      ],
      "execution_count": 121,
      "outputs": [
        {
          "output_type": "execute_result",
          "data": {
            "text/plain": [
              "array([[0.01544402],\n",
              "       [0.02702703],\n",
              "       [0.05405405],\n",
              "       [0.04826255],\n",
              "       [0.03281853],\n",
              "       [0.05984556],\n",
              "       [0.08494208],\n",
              "       [0.08494208],\n",
              "       [0.06177606],\n",
              "       [0.02895753],\n",
              "       [0.        ],\n",
              "       [0.02702703],\n",
              "       [0.02123552],\n",
              "       [0.04247104],\n",
              "       [0.07142857],\n",
              "       [0.05984556],\n",
              "       [0.04054054],\n",
              "       [0.08687259],\n",
              "       [0.12741313],\n",
              "       [0.12741313],\n",
              "       [0.1042471 ],\n",
              "       [0.05598456],\n",
              "       [0.01930502],\n",
              "       [0.06949807],\n",
              "       [0.07915058],\n",
              "       [0.08880309],\n",
              "       [0.14285714],\n",
              "       [0.11389961],\n",
              "       [0.13127413],\n",
              "       [0.14285714],\n",
              "       [0.18339768],\n",
              "       [0.18339768],\n",
              "       [0.15444015],\n",
              "       [0.11196911],\n",
              "       [0.08108108],\n",
              "       [0.11969112],\n",
              "       [0.12934363],\n",
              "       [0.14671815],\n",
              "       [0.17181467],\n",
              "       [0.14864865],\n",
              "       [0.15250965],\n",
              "       [0.22007722],\n",
              "       [0.24324324],\n",
              "       [0.26640927],\n",
              "       [0.2027027 ],\n",
              "       [0.16795367],\n",
              "       [0.13127413],\n",
              "       [0.17374517],\n",
              "       [0.17760618],\n",
              "       [0.17760618],\n",
              "       [0.25482625],\n",
              "       [0.25289575],\n",
              "       [0.24131274],\n",
              "       [0.26833977],\n",
              "       [0.30888031],\n",
              "       [0.32432432],\n",
              "       [0.25675676],\n",
              "       [0.20656371],\n",
              "       [0.14671815],\n",
              "       [0.18725869],\n",
              "       [0.19305019],\n",
              "       [0.16216216],\n",
              "       [0.25289575],\n",
              "       [0.23745174],\n",
              "       [0.25096525],\n",
              "       [0.30888031],\n",
              "       [0.38223938],\n",
              "       [0.36486486],\n",
              "       [0.2992278 ],\n",
              "       [0.24131274],\n",
              "       [0.19111969],\n",
              "       [0.24131274],\n",
              "       [0.26640927],\n",
              "       [0.24903475],\n",
              "       [0.31467181],\n",
              "       [0.31853282],\n",
              "       [0.32046332],\n",
              "       [0.40733591],\n",
              "       [0.5019305 ],\n",
              "       [0.46911197],\n",
              "       [0.4015444 ],\n",
              "       [0.32818533],\n",
              "       [0.25675676],\n",
              "       [0.33590734],\n",
              "       [0.34749035],\n",
              "       [0.33397683],\n",
              "       [0.41119691],\n",
              "       [0.4034749 ],\n",
              "       [0.41312741],\n",
              "       [0.52123552],\n",
              "       [0.5965251 ],\n",
              "       [0.58108108],\n",
              "       [0.48455598],\n",
              "       [0.38996139],\n",
              "       [0.32239382],\n",
              "       [0.38996139],\n",
              "       [0.40733591],\n",
              "       [0.38030888]])"
            ]
          },
          "metadata": {
            "tags": []
          },
          "execution_count": 121
        }
      ]
    },
    {
      "cell_type": "code",
      "metadata": {
        "id": "H3T-VWmiVFnY",
        "colab_type": "code",
        "colab": {
          "base_uri": "https://localhost:8080/",
          "height": 357
        },
        "outputId": "75616021-e1f7-4c89-f855-eef4129866d6"
      },
      "source": [
        "y_train"
      ],
      "execution_count": 122,
      "outputs": [
        {
          "output_type": "execute_result",
          "data": {
            "text/plain": [
              "array([0.02702703, 0.05405405, 0.04826255, 0.03281853, 0.05984556,\n",
              "       0.08494208, 0.08494208, 0.06177606, 0.02895753, 0.        ,\n",
              "       0.02702703, 0.02123552, 0.04247104, 0.07142857, 0.05984556,\n",
              "       0.04054054, 0.08687259, 0.12741313, 0.12741313, 0.1042471 ,\n",
              "       0.05598456, 0.01930502, 0.06949807, 0.07915058, 0.08880309,\n",
              "       0.14285714, 0.11389961, 0.13127413, 0.14285714, 0.18339768,\n",
              "       0.18339768, 0.15444015, 0.11196911, 0.08108108, 0.11969112,\n",
              "       0.12934363, 0.14671815, 0.17181467, 0.14864865, 0.15250965,\n",
              "       0.22007722, 0.24324324, 0.26640927, 0.2027027 , 0.16795367,\n",
              "       0.13127413, 0.17374517, 0.17760618, 0.17760618, 0.25482625,\n",
              "       0.25289575, 0.24131274, 0.26833977, 0.30888031, 0.32432432,\n",
              "       0.25675676, 0.20656371, 0.14671815, 0.18725869, 0.19305019,\n",
              "       0.16216216, 0.25289575, 0.23745174, 0.25096525, 0.30888031,\n",
              "       0.38223938, 0.36486486, 0.2992278 , 0.24131274, 0.19111969,\n",
              "       0.24131274, 0.26640927, 0.24903475, 0.31467181, 0.31853282,\n",
              "       0.32046332, 0.40733591, 0.5019305 , 0.46911197, 0.4015444 ,\n",
              "       0.32818533, 0.25675676, 0.33590734, 0.34749035, 0.33397683,\n",
              "       0.41119691, 0.4034749 , 0.41312741, 0.52123552, 0.5965251 ,\n",
              "       0.58108108, 0.48455598, 0.38996139, 0.32239382, 0.38996139,\n",
              "       0.40733591, 0.38030888, 0.48648649])"
            ]
          },
          "metadata": {
            "tags": []
          },
          "execution_count": 122
        }
      ]
    },
    {
      "cell_type": "code",
      "metadata": {
        "id": "hl2XKreeVFk9",
        "colab_type": "code",
        "colab": {}
      },
      "source": [
        "X_test, y_test =get_data(test, look_back)"
      ],
      "execution_count": 0,
      "outputs": []
    },
    {
      "cell_type": "code",
      "metadata": {
        "id": "xGDSnzVibQk9",
        "colab_type": "code",
        "colab": {
          "base_uri": "https://localhost:8080/",
          "height": 731
        },
        "outputId": "8946ff3e-bdb5-45ad-c1a0-504a0a976ef7"
      },
      "source": [
        "X_test"
      ],
      "execution_count": 124,
      "outputs": [
        {
          "output_type": "execute_result",
          "data": {
            "text/plain": [
              "array([[0.48455598],\n",
              "       [0.61389961],\n",
              "       [0.6969112 ],\n",
              "       [0.7007722 ],\n",
              "       [0.57915058],\n",
              "       [0.46911197],\n",
              "       [0.38803089],\n",
              "       [0.44787645],\n",
              "       [0.45559846],\n",
              "       [0.41312741],\n",
              "       [0.4980695 ],\n",
              "       [0.47104247],\n",
              "       [0.5       ],\n",
              "       [0.63899614],\n",
              "       [0.74710425],\n",
              "       [0.77413127],\n",
              "       [0.57915058],\n",
              "       [0.49227799],\n",
              "       [0.3976834 ],\n",
              "       [0.44980695],\n",
              "       [0.49420849],\n",
              "       [0.45945946],\n",
              "       [0.58301158],\n",
              "       [0.56370656],\n",
              "       [0.61003861],\n",
              "       [0.71042471],\n",
              "       [0.85714286],\n",
              "       [0.87837838],\n",
              "       [0.69305019],\n",
              "       [0.58494208],\n",
              "       [0.4980695 ],\n",
              "       [0.58108108],\n",
              "       [0.6042471 ],\n",
              "       [0.55405405],\n",
              "       [0.60810811],\n",
              "       [0.68918919],\n",
              "       [0.71042471],\n",
              "       [0.83204633],\n",
              "       [1.        ],\n",
              "       [0.96911197],\n",
              "       [0.77992278],\n",
              "       [0.68918919]])"
            ]
          },
          "metadata": {
            "tags": []
          },
          "execution_count": 124
        }
      ]
    },
    {
      "cell_type": "code",
      "metadata": {
        "id": "BqD4JbbWbS_z",
        "colab_type": "code",
        "colab": {
          "base_uri": "https://localhost:8080/",
          "height": 170
        },
        "outputId": "938c4a47-4fce-4ae4-fc90-10c8f0e19fd2"
      },
      "source": [
        "y_test"
      ],
      "execution_count": 125,
      "outputs": [
        {
          "output_type": "execute_result",
          "data": {
            "text/plain": [
              "array([0.61389961, 0.6969112 , 0.7007722 , 0.57915058, 0.46911197,\n",
              "       0.38803089, 0.44787645, 0.45559846, 0.41312741, 0.4980695 ,\n",
              "       0.47104247, 0.5       , 0.63899614, 0.74710425, 0.77413127,\n",
              "       0.57915058, 0.49227799, 0.3976834 , 0.44980695, 0.49420849,\n",
              "       0.45945946, 0.58301158, 0.56370656, 0.61003861, 0.71042471,\n",
              "       0.85714286, 0.87837838, 0.69305019, 0.58494208, 0.4980695 ,\n",
              "       0.58108108, 0.6042471 , 0.55405405, 0.60810811, 0.68918919,\n",
              "       0.71042471, 0.83204633, 1.        , 0.96911197, 0.77992278,\n",
              "       0.68918919, 0.55212355])"
            ]
          },
          "metadata": {
            "tags": []
          },
          "execution_count": 125
        }
      ]
    },
    {
      "cell_type": "code",
      "metadata": {
        "id": "11WY1fhsbVa0",
        "colab_type": "code",
        "colab": {}
      },
      "source": [
        "X_train = X_train.reshape(X_train.shape[0], X_train.shape[1], 1 )\n",
        "X_test = X_test.reshape(X_test.shape[0], X_test.shape[1], 1 )"
      ],
      "execution_count": 0,
      "outputs": []
    },
    {
      "cell_type": "code",
      "metadata": {
        "id": "LpCN0PXzb1ne",
        "colab_type": "code",
        "colab": {
          "base_uri": "https://localhost:8080/",
          "height": 34
        },
        "outputId": "130e22b8-b70b-48cc-d69c-0bec3d7e2aae"
      },
      "source": [
        "X_train.shape, X_test.shape"
      ],
      "execution_count": 127,
      "outputs": [
        {
          "output_type": "execute_result",
          "data": {
            "text/plain": [
              "((98, 1, 1), (42, 1, 1))"
            ]
          },
          "metadata": {
            "tags": []
          },
          "execution_count": 127
        }
      ]
    },
    {
      "cell_type": "markdown",
      "metadata": {
        "id": "o4uMIwAXcTdP",
        "colab_type": "text"
      },
      "source": [
        "**Build Model**"
      ]
    },
    {
      "cell_type": "code",
      "metadata": {
        "id": "QY1UNordcAQU",
        "colab_type": "code",
        "colab": {}
      },
      "source": [
        "model = Sequential()\n",
        "model.add(LSTM(5, input_shape = (1, look_back)))\n",
        "model.add(Dense(1))\n",
        "model.compile(loss = 'mean_squared_error', optimizer = 'adam')"
      ],
      "execution_count": 0,
      "outputs": []
    },
    {
      "cell_type": "code",
      "metadata": {
        "id": "0BCba5Q5c00f",
        "colab_type": "code",
        "colab": {
          "base_uri": "https://localhost:8080/",
          "height": 221
        },
        "outputId": "7c9893f9-64ac-4c9d-8acc-b5b26199eed5"
      },
      "source": [
        "model.summary()"
      ],
      "execution_count": 129,
      "outputs": [
        {
          "output_type": "stream",
          "text": [
            "Model: \"sequential_4\"\n",
            "_________________________________________________________________\n",
            "Layer (type)                 Output Shape              Param #   \n",
            "=================================================================\n",
            "lstm_4 (LSTM)                (None, 5)                 140       \n",
            "_________________________________________________________________\n",
            "dense_4 (Dense)              (None, 1)                 6         \n",
            "=================================================================\n",
            "Total params: 146\n",
            "Trainable params: 146\n",
            "Non-trainable params: 0\n",
            "_________________________________________________________________\n"
          ],
          "name": "stdout"
        }
      ]
    },
    {
      "cell_type": "code",
      "metadata": {
        "id": "0BMcmRuSc2xd",
        "colab_type": "code",
        "colab": {
          "base_uri": "https://localhost:8080/",
          "height": 1000
        },
        "outputId": "55a31352-5eb3-4f51-ae66-a5cd7b98b5c2"
      },
      "source": [
        "model.fit(X_train, y_train, epochs=50, batch_size=1)"
      ],
      "execution_count": 130,
      "outputs": [
        {
          "output_type": "stream",
          "text": [
            "Epoch 1/50\n",
            "98/98 [==============================] - 0s 2ms/step - loss: 0.0377\n",
            "Epoch 2/50\n",
            "98/98 [==============================] - 0s 2ms/step - loss: 0.0164\n",
            "Epoch 3/50\n",
            "98/98 [==============================] - 0s 2ms/step - loss: 0.0133\n",
            "Epoch 4/50\n",
            "98/98 [==============================] - 0s 1ms/step - loss: 0.0120\n",
            "Epoch 5/50\n",
            "98/98 [==============================] - 0s 2ms/step - loss: 0.0110\n",
            "Epoch 6/50\n",
            "98/98 [==============================] - 0s 2ms/step - loss: 0.0096\n",
            "Epoch 7/50\n",
            "98/98 [==============================] - 0s 2ms/step - loss: 0.0086\n",
            "Epoch 8/50\n",
            "98/98 [==============================] - 0s 2ms/step - loss: 0.0075\n",
            "Epoch 9/50\n",
            "98/98 [==============================] - 0s 2ms/step - loss: 0.0065\n",
            "Epoch 10/50\n",
            "98/98 [==============================] - 0s 2ms/step - loss: 0.0056\n",
            "Epoch 11/50\n",
            "98/98 [==============================] - 0s 2ms/step - loss: 0.0048\n",
            "Epoch 12/50\n",
            "98/98 [==============================] - 0s 2ms/step - loss: 0.0040\n",
            "Epoch 13/50\n",
            "98/98 [==============================] - 0s 2ms/step - loss: 0.0036\n",
            "Epoch 14/50\n",
            "98/98 [==============================] - 0s 2ms/step - loss: 0.0031\n",
            "Epoch 15/50\n",
            "98/98 [==============================] - 0s 2ms/step - loss: 0.0029\n",
            "Epoch 16/50\n",
            "98/98 [==============================] - 0s 2ms/step - loss: 0.0026\n",
            "Epoch 17/50\n",
            "98/98 [==============================] - 0s 2ms/step - loss: 0.0025\n",
            "Epoch 18/50\n",
            "98/98 [==============================] - 0s 2ms/step - loss: 0.0023\n",
            "Epoch 19/50\n",
            "98/98 [==============================] - 0s 2ms/step - loss: 0.0023\n",
            "Epoch 20/50\n",
            "98/98 [==============================] - 0s 2ms/step - loss: 0.0022\n",
            "Epoch 21/50\n",
            "98/98 [==============================] - 0s 2ms/step - loss: 0.0021\n",
            "Epoch 22/50\n",
            "98/98 [==============================] - 0s 2ms/step - loss: 0.0023\n",
            "Epoch 23/50\n",
            "98/98 [==============================] - 0s 2ms/step - loss: 0.0022\n",
            "Epoch 24/50\n",
            "98/98 [==============================] - 0s 2ms/step - loss: 0.0022\n",
            "Epoch 25/50\n",
            "98/98 [==============================] - 0s 2ms/step - loss: 0.0021\n",
            "Epoch 26/50\n",
            "98/98 [==============================] - 0s 2ms/step - loss: 0.0022\n",
            "Epoch 27/50\n",
            "98/98 [==============================] - 0s 2ms/step - loss: 0.0022\n",
            "Epoch 28/50\n",
            "98/98 [==============================] - 0s 2ms/step - loss: 0.0021\n",
            "Epoch 29/50\n",
            "98/98 [==============================] - 0s 2ms/step - loss: 0.0022\n",
            "Epoch 30/50\n",
            "98/98 [==============================] - 0s 1ms/step - loss: 0.0022\n",
            "Epoch 31/50\n",
            "98/98 [==============================] - 0s 2ms/step - loss: 0.0022\n",
            "Epoch 32/50\n",
            "98/98 [==============================] - 0s 1ms/step - loss: 0.0022\n",
            "Epoch 33/50\n",
            "98/98 [==============================] - 0s 2ms/step - loss: 0.0022\n",
            "Epoch 34/50\n",
            "98/98 [==============================] - 0s 2ms/step - loss: 0.0022\n",
            "Epoch 35/50\n",
            "98/98 [==============================] - 0s 1ms/step - loss: 0.0021\n",
            "Epoch 36/50\n",
            "98/98 [==============================] - 0s 2ms/step - loss: 0.0023\n",
            "Epoch 37/50\n",
            "98/98 [==============================] - 0s 1ms/step - loss: 0.0021\n",
            "Epoch 38/50\n",
            "98/98 [==============================] - 0s 2ms/step - loss: 0.0022\n",
            "Epoch 39/50\n",
            "98/98 [==============================] - 0s 2ms/step - loss: 0.0022\n",
            "Epoch 40/50\n",
            "98/98 [==============================] - 0s 2ms/step - loss: 0.0022\n",
            "Epoch 41/50\n",
            "98/98 [==============================] - 0s 2ms/step - loss: 0.0021\n",
            "Epoch 42/50\n",
            "98/98 [==============================] - 0s 2ms/step - loss: 0.0022\n",
            "Epoch 43/50\n",
            "98/98 [==============================] - 0s 2ms/step - loss: 0.0022\n",
            "Epoch 44/50\n",
            "98/98 [==============================] - 0s 2ms/step - loss: 0.0021\n",
            "Epoch 45/50\n",
            "98/98 [==============================] - 0s 2ms/step - loss: 0.0022\n",
            "Epoch 46/50\n",
            "98/98 [==============================] - 0s 2ms/step - loss: 0.0022\n",
            "Epoch 47/50\n",
            "98/98 [==============================] - 0s 2ms/step - loss: 0.0021\n",
            "Epoch 48/50\n",
            "98/98 [==============================] - 0s 2ms/step - loss: 0.0021\n",
            "Epoch 49/50\n",
            "98/98 [==============================] - 0s 2ms/step - loss: 0.0021\n",
            "Epoch 50/50\n",
            "98/98 [==============================] - 0s 2ms/step - loss: 0.0021\n"
          ],
          "name": "stdout"
        },
        {
          "output_type": "execute_result",
          "data": {
            "text/plain": [
              "<tensorflow.python.keras.callbacks.History at 0x7fd0a4c51be0>"
            ]
          },
          "metadata": {
            "tags": []
          },
          "execution_count": 130
        }
      ]
    },
    {
      "cell_type": "code",
      "metadata": {
        "id": "BbZnxviedEDd",
        "colab_type": "code",
        "colab": {}
      },
      "source": [
        "y_pred = model.predict(X_test)"
      ],
      "execution_count": 0,
      "outputs": []
    },
    {
      "cell_type": "code",
      "metadata": {
        "id": "MoBcttd3fZK7",
        "colab_type": "code",
        "colab": {
          "base_uri": "https://localhost:8080/",
          "height": 731
        },
        "outputId": "18a7e0b0-00cf-4aac-8980-9497fe6099ba"
      },
      "source": [
        "y_pred"
      ],
      "execution_count": 132,
      "outputs": [
        {
          "output_type": "execute_result",
          "data": {
            "text/plain": [
              "array([[0.4757198 ],\n",
              "       [0.6034658 ],\n",
              "       [0.6841523 ],\n",
              "       [0.6878688 ],\n",
              "       [0.56932145],\n",
              "       [0.4603948 ],\n",
              "       [0.38005897],\n",
              "       [0.43932444],\n",
              "       [0.4469855 ],\n",
              "       [0.40488043],\n",
              "       [0.48912567],\n",
              "       [0.46231046],\n",
              "       [0.4910404 ],\n",
              "       [0.628004  ],\n",
              "       [0.73217016],\n",
              "       [0.7577418 ],\n",
              "       [0.56932145],\n",
              "       [0.48338085],\n",
              "       [0.3895985 ],\n",
              "       [0.44123957],\n",
              "       [0.485296  ],\n",
              "       [0.45081648],\n",
              "       [0.5731238 ],\n",
              "       [0.5540935 ],\n",
              "       [0.5996811 ],\n",
              "       [0.6971437 ],\n",
              "       [0.83487844],\n",
              "       [0.8542427 ],\n",
              "       [0.68043226],\n",
              "       [0.57502425],\n",
              "       [0.48912567],\n",
              "       [0.5712229 ],\n",
              "       [0.5939995 ],\n",
              "       [0.54456216],\n",
              "       [0.5977878 ],\n",
              "       [0.6767088 ],\n",
              "       [0.6971437 ],\n",
              "       [0.8117939 ],\n",
              "       [0.96195066],\n",
              "       [0.93513185],\n",
              "       [0.7631937 ],\n",
              "       [0.6767088 ]], dtype=float32)"
            ]
          },
          "metadata": {
            "tags": []
          },
          "execution_count": 132
        }
      ]
    },
    {
      "cell_type": "code",
      "metadata": {
        "id": "GCalFFYVfaKQ",
        "colab_type": "code",
        "colab": {}
      },
      "source": [
        "y_pred = scaler.inverse_transform(y_pred)"
      ],
      "execution_count": 0,
      "outputs": []
    },
    {
      "cell_type": "code",
      "metadata": {
        "id": "fI0XpmHig_q4",
        "colab_type": "code",
        "colab": {
          "base_uri": "https://localhost:8080/",
          "height": 34
        },
        "outputId": "bd9183fa-69a1-43ef-c475-449293d514fd"
      },
      "source": [
        "scaler.scale_"
      ],
      "execution_count": 134,
      "outputs": [
        {
          "output_type": "execute_result",
          "data": {
            "text/plain": [
              "array([0.0019305])"
            ]
          },
          "metadata": {
            "tags": []
          },
          "execution_count": 134
        }
      ]
    },
    {
      "cell_type": "code",
      "metadata": {
        "id": "yk5BvcUjfnO9",
        "colab_type": "code",
        "colab": {}
      },
      "source": [
        "y_test = np.array(y_test)\n",
        "y_test = y_test.reshape(-1, 1)\n",
        "y_test = scaler.inverse_transform(y_test)"
      ],
      "execution_count": 0,
      "outputs": []
    },
    {
      "cell_type": "code",
      "metadata": {
        "id": "kHSKybmQgaT1",
        "colab_type": "code",
        "colab": {
          "base_uri": "https://localhost:8080/",
          "height": 320
        },
        "outputId": "ae441064-de19-4b21-bd07-57c62d1efc9a"
      },
      "source": [
        "#plot baseline and Predications\n",
        "\n",
        "plt.figure(figsize=(14,5))\n",
        "plt.plot(y_test, label = 'real number of passengers')\n",
        "plt.plot(y_pred, label = 'predicated number of passangers')\n",
        "plt.ylabel('#passengers')\n",
        "plt.legend()\n",
        "plt.show()"
      ],
      "execution_count": 136,
      "outputs": [
        {
          "output_type": "display_data",
          "data": {
            "image/png": "[encoded data removed]",
            "text/plain": [
              "<Figure size 1008x360 with 1 Axes>"
            ]
          },
          "metadata": {
            "tags": [],
            "needs_background": "light"
          }
        }
      ]
    },
    {
      "cell_type": "code",
      "metadata": {
        "id": "Wfn1AA_ag8wj",
        "colab_type": "code",
        "colab": {}
      },
      "source": [
        ""
      ],
      "execution_count": 0,
      "outputs": []
    }
  ]
}