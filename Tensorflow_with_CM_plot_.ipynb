{
  "nbformat": 4,
  "nbformat_minor": 0,
  "metadata": {
    "colab": {
      "name": "Tensorflow with CM plot .ipynb",
      "provenance": [],
      "collapsed_sections": [],
      "authorship_tag": "ABX9TyMUBh8A707raawDCuEh0DIV",
      "include_colab_link": true
    },
    "kernelspec": {
      "name": "python3",
      "display_name": "Python 3"
    }
  },
  "cells": [
    {
      "cell_type": "markdown",
      "metadata": {
        "id": "view-in-github",
        "colab_type": "text"
      },
      "source": [
        "<a href=\"https://colab.research.google.com/github/Ram04420/TensorFlow/blob/master/Tensorflow_with_CM_plot_.ipynb\" target=\"_parent\"><img src=\"https://colab.research.google.com/assets/colab-badge.svg\" alt=\"Open In Colab\"/></a>"
      ]
    },
    {
      "cell_type": "code",
      "metadata": {
        "id": "59W0mIw18Fqx",
        "colab_type": "code",
        "colab": {}
      },
      "source": [
        "import tensorflow as tf"
      ],
      "execution_count": 0,
      "outputs": []
    },
    {
      "cell_type": "code",
      "metadata": {
        "id": "Ma6DihOi8VfW",
        "colab_type": "code",
        "colab": {}
      },
      "source": [
        "from tensorflow import keras"
      ],
      "execution_count": 0,
      "outputs": []
    },
    {
      "cell_type": "code",
      "metadata": {
        "id": "aAJNBLPu8hTl",
        "colab_type": "code",
        "outputId": "17f0d6da-b2a3-43b7-9942-ace902b37260",
        "colab": {
          "base_uri": "https://localhost:8080/",
          "height": 34
        }
      },
      "source": [
        "print(tf.__version__)"
      ],
      "execution_count": 0,
      "outputs": [
        {
          "output_type": "stream",
          "text": [
            "2.2.0-rc3\n"
          ],
          "name": "stdout"
        }
      ]
    },
    {
      "cell_type": "code",
      "metadata": {
        "id": "lXmR_m3_9U2G",
        "colab_type": "code",
        "colab": {}
      },
      "source": [
        "import pandas as pd\n",
        "import numpy as np\n",
        "import matplotlib.pyplot as plt\n",
        "import matplotlib\n",
        "import seaborn as sns"
      ],
      "execution_count": 0,
      "outputs": []
    },
    {
      "cell_type": "code",
      "metadata": {
        "id": "2_jMN1ehRuxX",
        "colab_type": "code",
        "colab": {}
      },
      "source": [
        "mnist = keras.datasets.fashion_mnist"
      ],
      "execution_count": 0,
      "outputs": []
    },
    {
      "cell_type": "code",
      "metadata": {
        "id": "F_QY9NO7R6YM",
        "colab_type": "code",
        "outputId": "76f782fa-c982-45ff-8711-53ec05543af2",
        "colab": {
          "base_uri": "https://localhost:8080/",
          "height": 34
        }
      },
      "source": [
        "type(mnist)"
      ],
      "execution_count": 0,
      "outputs": [
        {
          "output_type": "execute_result",
          "data": {
            "text/plain": [
              "module"
            ]
          },
          "metadata": {
            "tags": []
          },
          "execution_count": 6
        }
      ]
    },
    {
      "cell_type": "code",
      "metadata": {
        "id": "PlPWIWL7SBAL",
        "colab_type": "code",
        "outputId": "f66e21a4-d81e-4281-e9d8-88770e2af6a4",
        "colab": {
          "base_uri": "https://localhost:8080/",
          "height": 153
        }
      },
      "source": [
        "(x_train, y_train), (x_test, y_test) = mnist.load_data()"
      ],
      "execution_count": 0,
      "outputs": [
        {
          "output_type": "stream",
          "text": [
            "Downloading data from https://storage.googleapis.com/tensorflow/tf-keras-datasets/train-labels-idx1-ubyte.gz\n",
            "32768/29515 [=================================] - 0s 0us/step\n",
            "Downloading data from https://storage.googleapis.com/tensorflow/tf-keras-datasets/train-images-idx3-ubyte.gz\n",
            "26427392/26421880 [==============================] - 0s 0us/step\n",
            "Downloading data from https://storage.googleapis.com/tensorflow/tf-keras-datasets/t10k-labels-idx1-ubyte.gz\n",
            "8192/5148 [===============================================] - 0s 0us/step\n",
            "Downloading data from https://storage.googleapis.com/tensorflow/tf-keras-datasets/t10k-images-idx3-ubyte.gz\n",
            "4423680/4422102 [==============================] - 0s 0us/step\n"
          ],
          "name": "stdout"
        }
      ]
    },
    {
      "cell_type": "code",
      "metadata": {
        "id": "HB9AEhDqSeLE",
        "colab_type": "code",
        "outputId": "aa1817cc-d5d2-4730-fdeb-c663fb45121c",
        "colab": {
          "base_uri": "https://localhost:8080/",
          "height": 34
        }
      },
      "source": [
        "x_train.shape, y_train.shape"
      ],
      "execution_count": 0,
      "outputs": [
        {
          "output_type": "execute_result",
          "data": {
            "text/plain": [
              "((60000, 28, 28), (60000,))"
            ]
          },
          "metadata": {
            "tags": []
          },
          "execution_count": 8
        }
      ]
    },
    {
      "cell_type": "code",
      "metadata": {
        "id": "PPplzABNSp8I",
        "colab_type": "code",
        "outputId": "57035ccc-e6ee-41ec-c72c-63c07b875b0b",
        "colab": {
          "base_uri": "https://localhost:8080/",
          "height": 34
        }
      },
      "source": [
        "np.max(x_train)"
      ],
      "execution_count": 0,
      "outputs": [
        {
          "output_type": "execute_result",
          "data": {
            "text/plain": [
              "255"
            ]
          },
          "metadata": {
            "tags": []
          },
          "execution_count": 9
        }
      ]
    },
    {
      "cell_type": "code",
      "metadata": {
        "id": "epfZOrm2TFHE",
        "colab_type": "code",
        "outputId": "a8897204-ae98-4c96-88eb-186efc7ecf7b",
        "colab": {
          "base_uri": "https://localhost:8080/",
          "height": 34
        }
      },
      "source": [
        "y_train"
      ],
      "execution_count": 0,
      "outputs": [
        {
          "output_type": "execute_result",
          "data": {
            "text/plain": [
              "array([9, 0, 0, ..., 3, 0, 5], dtype=uint8)"
            ]
          },
          "metadata": {
            "tags": []
          },
          "execution_count": 10
        }
      ]
    },
    {
      "cell_type": "code",
      "metadata": {
        "id": "rE9bbWlCTjG7",
        "colab_type": "code",
        "colab": {}
      },
      "source": [
        "class_names =['top', 'trouser','pullover', 'dress', 'coat', 'sandal', 'shirt','sneaker','bag','ankle']"
      ],
      "execution_count": 0,
      "outputs": []
    },
    {
      "cell_type": "code",
      "metadata": {
        "id": "OZZniycpUUFX",
        "colab_type": "code",
        "outputId": "034ce394-c694-492b-f066-e8d34e9f198f",
        "colab": {
          "base_uri": "https://localhost:8080/",
          "height": 282
        }
      },
      "source": [
        "plt.figure()\n",
        "plt.imshow(x_train[1])\n",
        "plt.colorbar()"
      ],
      "execution_count": 0,
      "outputs": [
        {
          "output_type": "execute_result",
          "data": {
            "text/plain": [
              "<matplotlib.colorbar.Colorbar at 0x7ff92c7aec50>"
            ]
          },
          "metadata": {
            "tags": []
          },
          "execution_count": 12
        },
        {
          "output_type": "display_data",
          "data": {
            "image/png": "[encoded data removed]",
            "text/plain": [
              "<Figure size 432x288 with 2 Axes>"
            ]
          },
          "metadata": {
            "tags": [],
            "needs_background": "light"
          }
        }
      ]
    },
    {
      "cell_type": "code",
      "metadata": {
        "id": "L48dHWfoUzgt",
        "colab_type": "code",
        "colab": {}
      },
      "source": [
        "x_train = x_train/255.0\n",
        "x_test = x_test/255.0"
      ],
      "execution_count": 0,
      "outputs": []
    },
    {
      "cell_type": "code",
      "metadata": {
        "id": "0rCpgFqvVpmI",
        "colab_type": "code",
        "outputId": "f39b7fd4-8bda-4dde-de82-1bad5114a0ac",
        "colab": {
          "base_uri": "https://localhost:8080/",
          "height": 286
        }
      },
      "source": [
        "plt.figure()\n",
        "plt.imshow(x_train[1])\n",
        "plt.colorbar()"
      ],
      "execution_count": 0,
      "outputs": [
        {
          "output_type": "execute_result",
          "data": {
            "text/plain": [
              "<matplotlib.colorbar.Colorbar at 0x7ff92c253668>"
            ]
          },
          "metadata": {
            "tags": []
          },
          "execution_count": 14
        },
        {
          "output_type": "display_data",
          "data": {
            "image/png": "[encoded data removed]",
            "text/plain": [
              "<Figure size 432x288 with 2 Axes>"
            ]
          },
          "metadata": {
            "tags": [],
            "needs_background": "light"
          }
        }
      ]
    },
    {
      "cell_type": "markdown",
      "metadata": {
        "id": "WOqziBahV77j",
        "colab_type": "text"
      },
      "source": [
        "**Build the Model with TF 2.0**"
      ]
    },
    {
      "cell_type": "code",
      "metadata": {
        "id": "pji7GuZbWEAb",
        "colab_type": "code",
        "colab": {}
      },
      "source": [
        "from tensorflow.keras import Sequential\n",
        "from tensorflow.keras.layers import Flatten, Dense"
      ],
      "execution_count": 0,
      "outputs": []
    },
    {
      "cell_type": "code",
      "metadata": {
        "id": "bJ2dIuloWuw-",
        "colab_type": "code",
        "colab": {}
      },
      "source": [
        "model = Sequential()\n",
        "model.add(Flatten(input_shape = (28,28)))\n",
        "model.add(Dense(128, activation='relu'))\n",
        "model.add(Dense(10, activation='softmax'))"
      ],
      "execution_count": 0,
      "outputs": []
    },
    {
      "cell_type": "code",
      "metadata": {
        "id": "LUkHRPYGYcqU",
        "colab_type": "code",
        "outputId": "1c6df5b1-d72d-4274-9675-13602dc023ec",
        "colab": {
          "base_uri": "https://localhost:8080/",
          "height": 255
        }
      },
      "source": [
        "model.summary()"
      ],
      "execution_count": 0,
      "outputs": [
        {
          "output_type": "stream",
          "text": [
            "Model: \"sequential\"\n",
            "_________________________________________________________________\n",
            "Layer (type)                 Output Shape              Param #   \n",
            "=================================================================\n",
            "flatten (Flatten)            (None, 784)               0         \n",
            "_________________________________________________________________\n",
            "dense (Dense)                (None, 128)               100480    \n",
            "_________________________________________________________________\n",
            "dense_1 (Dense)              (None, 10)                1290      \n",
            "=================================================================\n",
            "Total params: 101,770\n",
            "Trainable params: 101,770\n",
            "Non-trainable params: 0\n",
            "_________________________________________________________________\n"
          ],
          "name": "stdout"
        }
      ]
    },
    {
      "cell_type": "code",
      "metadata": {
        "id": "eMkfw06VYgdu",
        "colab_type": "code",
        "outputId": "271831af-9f49-4399-cee8-f94666aba83d",
        "colab": {
          "base_uri": "https://localhost:8080/",
          "height": 34
        }
      },
      "source": [
        "784*128+128"
      ],
      "execution_count": 0,
      "outputs": [
        {
          "output_type": "execute_result",
          "data": {
            "text/plain": [
              "100480"
            ]
          },
          "metadata": {
            "tags": []
          },
          "execution_count": 18
        }
      ]
    },
    {
      "cell_type": "markdown",
      "metadata": {
        "id": "3rMdxWZPZXzN",
        "colab_type": "text"
      },
      "source": [
        "**Model Compaliation**\n",
        "* Loss Function\n",
        "* Optimizer\n",
        "* Metrics"
      ]
    },
    {
      "cell_type": "code",
      "metadata": {
        "id": "n1L95lZ6Yw23",
        "colab_type": "code",
        "colab": {}
      },
      "source": [
        "model.compile(optimizer='adam',loss ='sparse_categorical_crossentropy', metrics=['accuracy'])"
      ],
      "execution_count": 0,
      "outputs": []
    },
    {
      "cell_type": "code",
      "metadata": {
        "id": "GogSr-tRY6rv",
        "colab_type": "code",
        "outputId": "e6aaf6a4-a12d-41b1-a713-90d7682cc593",
        "colab": {
          "base_uri": "https://localhost:8080/",
          "height": 357
        }
      },
      "source": [
        "history = model.fit(x_train, y_train,epochs=10, batch_size=10, validation_split=0.2)"
      ],
      "execution_count": 0,
      "outputs": [
        {
          "output_type": "stream",
          "text": [
            "Epoch 1/10\n",
            "4800/4800 [==============================] - 11s 2ms/step - loss: 0.1987 - accuracy: 0.9257 - val_loss: 0.2018 - val_accuracy: 0.9232\n",
            "Epoch 2/10\n",
            "4800/4800 [==============================] - 10s 2ms/step - loss: 0.1877 - accuracy: 0.9301 - val_loss: 0.2110 - val_accuracy: 0.9229\n",
            "Epoch 3/10\n",
            "4800/4800 [==============================] - 10s 2ms/step - loss: 0.1855 - accuracy: 0.9302 - val_loss: 0.2042 - val_accuracy: 0.9247\n",
            "Epoch 4/10\n",
            "4800/4800 [==============================] - 10s 2ms/step - loss: 0.1795 - accuracy: 0.9333 - val_loss: 0.2073 - val_accuracy: 0.9248\n",
            "Epoch 5/10\n",
            "4800/4800 [==============================] - 10s 2ms/step - loss: 0.1764 - accuracy: 0.9327 - val_loss: 0.2238 - val_accuracy: 0.9174\n",
            "Epoch 6/10\n",
            "4800/4800 [==============================] - 10s 2ms/step - loss: 0.1710 - accuracy: 0.9355 - val_loss: 0.2264 - val_accuracy: 0.9197\n",
            "Epoch 7/10\n",
            "4800/4800 [==============================] - 10s 2ms/step - loss: 0.1673 - accuracy: 0.9381 - val_loss: 0.2265 - val_accuracy: 0.9199\n",
            "Epoch 8/10\n",
            "4800/4800 [==============================] - 10s 2ms/step - loss: 0.1629 - accuracy: 0.9392 - val_loss: 0.2338 - val_accuracy: 0.9201\n",
            "Epoch 9/10\n",
            "4800/4800 [==============================] - 10s 2ms/step - loss: 0.1602 - accuracy: 0.9395 - val_loss: 0.2528 - val_accuracy: 0.9114\n",
            "Epoch 10/10\n",
            "4800/4800 [==============================] - 10s 2ms/step - loss: 0.1584 - accuracy: 0.9395 - val_loss: 0.2587 - val_accuracy: 0.9132\n"
          ],
          "name": "stdout"
        }
      ]
    },
    {
      "cell_type": "code",
      "metadata": {
        "id": "EcyLGW0EbJAm",
        "colab_type": "code",
        "outputId": "aef33048-43c2-465c-8894-e13ac130430a",
        "colab": {
          "base_uri": "https://localhost:8080/",
          "height": 51
        }
      },
      "source": [
        "test_loss, test_acc = model.evaluate(x_test, y_test)\n",
        "print(test_acc)"
      ],
      "execution_count": 0,
      "outputs": [
        {
          "output_type": "stream",
          "text": [
            "313/313 [==============================] - 0s 1ms/step - loss: 0.4794 - accuracy: 0.8818\n",
            "0.8817999958992004\n"
          ],
          "name": "stdout"
        }
      ]
    },
    {
      "cell_type": "code",
      "metadata": {
        "id": "bVYMet9icATU",
        "colab_type": "code",
        "colab": {}
      },
      "source": [
        "from sklearn.metrics import accuracy_score"
      ],
      "execution_count": 0,
      "outputs": []
    },
    {
      "cell_type": "code",
      "metadata": {
        "id": "kudMsjHDcg9Y",
        "colab_type": "code",
        "colab": {}
      },
      "source": [
        "y_pred = model.predict_classes(x_test)"
      ],
      "execution_count": 0,
      "outputs": []
    },
    {
      "cell_type": "code",
      "metadata": {
        "id": "pZ6_xMzXcn7S",
        "colab_type": "code",
        "outputId": "fadf4c6b-26f2-4c3f-ef1f-facb3c86851e",
        "colab": {
          "base_uri": "https://localhost:8080/",
          "height": 34
        }
      },
      "source": [
        "accuracy_score(y_test, y_pred)"
      ],
      "execution_count": 0,
      "outputs": [
        {
          "output_type": "execute_result",
          "data": {
            "text/plain": [
              "0.8818"
            ]
          },
          "metadata": {
            "tags": []
          },
          "execution_count": 46
        }
      ]
    },
    {
      "cell_type": "code",
      "metadata": {
        "id": "awgFgTUIcxgv",
        "colab_type": "code",
        "colab": {}
      },
      "source": [
        "pred = model.predict(x_test)"
      ],
      "execution_count": 0,
      "outputs": []
    },
    {
      "cell_type": "code",
      "metadata": {
        "id": "IdBm7ahEdfDp",
        "colab_type": "code",
        "outputId": "e909c00a-b7d0-4336-de7f-b52efc1b94d8",
        "colab": {
          "base_uri": "https://localhost:8080/",
          "height": 238
        }
      },
      "source": [
        "pred"
      ],
      "execution_count": 0,
      "outputs": [
        {
          "output_type": "execute_result",
          "data": {
            "text/plain": [
              "array([[2.0428308e-16, 1.1879967e-15, 7.6034681e-20, ..., 1.0962047e-05,\n",
              "        1.0191599e-15, 9.9998903e-01],\n",
              "       [2.8224938e-06, 1.0345932e-27, 9.9999475e-01, ..., 0.0000000e+00,\n",
              "        2.3998289e-26, 4.2851339e-25],\n",
              "       [2.2385148e-08, 1.0000000e+00, 2.8448828e-13, ..., 0.0000000e+00,\n",
              "        4.9880262e-23, 0.0000000e+00],\n",
              "       ...,\n",
              "       [1.9329278e-13, 1.1402686e-30, 4.9410660e-13, ..., 1.5596952e-19,\n",
              "        1.0000000e+00, 1.5849964e-24],\n",
              "       [2.7212003e-13, 1.0000000e+00, 2.1707342e-17, ..., 3.0184459e-34,\n",
              "        7.8015560e-19, 5.9147604e-22],\n",
              "       [3.1053537e-06, 3.2987531e-16, 7.7227668e-08, ..., 1.7425920e-06,\n",
              "        1.5546905e-07, 6.9225535e-11]], dtype=float32)"
            ]
          },
          "metadata": {
            "tags": []
          },
          "execution_count": 48
        }
      ]
    },
    {
      "cell_type": "code",
      "metadata": {
        "id": "k_WTOte5dgCn",
        "colab_type": "code",
        "outputId": "e241e9b1-601b-4ad8-e8c0-58e18f70f109",
        "colab": {
          "base_uri": "https://localhost:8080/",
          "height": 34
        }
      },
      "source": [
        "y_pred"
      ],
      "execution_count": 0,
      "outputs": [
        {
          "output_type": "execute_result",
          "data": {
            "text/plain": [
              "array([9, 2, 1, ..., 8, 1, 5])"
            ]
          },
          "metadata": {
            "tags": []
          },
          "execution_count": 49
        }
      ]
    },
    {
      "cell_type": "code",
      "metadata": {
        "id": "mHRZu-kCdjz-",
        "colab_type": "code",
        "outputId": "4d95dd47-4128-4864-c794-d09606efcf0e",
        "colab": {
          "base_uri": "https://localhost:8080/",
          "height": 68
        }
      },
      "source": [
        "pred[0]"
      ],
      "execution_count": 0,
      "outputs": [
        {
          "output_type": "execute_result",
          "data": {
            "text/plain": [
              "array([2.0428308e-16, 1.1879967e-15, 7.6034681e-20, 4.2821833e-18,\n",
              "       4.4597259e-15, 9.6876214e-09, 9.6268217e-16, 1.0962047e-05,\n",
              "       1.0191599e-15, 9.9998903e-01], dtype=float32)"
            ]
          },
          "metadata": {
            "tags": []
          },
          "execution_count": 50
        }
      ]
    },
    {
      "cell_type": "code",
      "metadata": {
        "id": "sMstSFXCdmbf",
        "colab_type": "code",
        "outputId": "5447a614-7490-46ff-9480-2fde3bfd1a30",
        "colab": {
          "base_uri": "https://localhost:8080/",
          "height": 34
        }
      },
      "source": [
        "np.argmax(pred[0])"
      ],
      "execution_count": 0,
      "outputs": [
        {
          "output_type": "execute_result",
          "data": {
            "text/plain": [
              "9"
            ]
          },
          "metadata": {
            "tags": []
          },
          "execution_count": 51
        }
      ]
    },
    {
      "cell_type": "code",
      "metadata": {
        "id": "Gg7cia1edx0H",
        "colab_type": "code",
        "outputId": "1702c2a0-b30b-426e-a73e-a4fa93216dc2",
        "colab": {
          "base_uri": "https://localhost:8080/",
          "height": 34
        }
      },
      "source": [
        "np.argmax(pred[1])"
      ],
      "execution_count": 0,
      "outputs": [
        {
          "output_type": "execute_result",
          "data": {
            "text/plain": [
              "2"
            ]
          },
          "metadata": {
            "tags": []
          },
          "execution_count": 52
        }
      ]
    },
    {
      "cell_type": "code",
      "metadata": {
        "id": "8MtS_GzVd5Vy",
        "colab_type": "code",
        "colab": {}
      },
      "source": [
        ""
      ],
      "execution_count": 0,
      "outputs": []
    },
    {
      "cell_type": "markdown",
      "metadata": {
        "id": "ZtCsFS4_pXZ5",
        "colab_type": "text"
      },
      "source": [
        "**Ploting Learning Curve with TF 2.0**"
      ]
    },
    {
      "cell_type": "code",
      "metadata": {
        "id": "oNVbzrzfpfkW",
        "colab_type": "code",
        "colab": {}
      },
      "source": [
        "#pip install mlxtend"
      ],
      "execution_count": 0,
      "outputs": []
    },
    {
      "cell_type": "code",
      "metadata": {
        "id": "-BxLOxZ0p9Ej",
        "colab_type": "code",
        "colab": {}
      },
      "source": [
        "help(model)"
      ],
      "execution_count": 0,
      "outputs": []
    },
    {
      "cell_type": "code",
      "metadata": {
        "id": "fOooZ4-YuHK5",
        "colab_type": "code",
        "outputId": "6c349e03-2379-40b2-ffa1-d9c5fdbe2c64",
        "colab": {
          "base_uri": "https://localhost:8080/",
          "height": 697
        }
      },
      "source": [
        "history.history"
      ],
      "execution_count": 0,
      "outputs": [
        {
          "output_type": "execute_result",
          "data": {
            "text/plain": [
              "{'accuracy': [0.9256874918937683,\n",
              "  0.9300833344459534,\n",
              "  0.9302499890327454,\n",
              "  0.9332708120346069,\n",
              "  0.9326666593551636,\n",
              "  0.9355000257492065,\n",
              "  0.9381458163261414,\n",
              "  0.9392291903495789,\n",
              "  0.9394791722297668,\n",
              "  0.9395416378974915],\n",
              " 'loss': [0.1986725926399231,\n",
              "  0.1877094805240631,\n",
              "  0.18548880517482758,\n",
              "  0.17948180437088013,\n",
              "  0.17640896141529083,\n",
              "  0.17096669971942902,\n",
              "  0.1673300862312317,\n",
              "  0.16285362839698792,\n",
              "  0.1602197289466858,\n",
              "  0.15843310952186584],\n",
              " 'val_accuracy': [0.9231666922569275,\n",
              "  0.9229166507720947,\n",
              "  0.9246666431427002,\n",
              "  0.924833357334137,\n",
              "  0.9174166917800903,\n",
              "  0.9197499752044678,\n",
              "  0.9199166893959045,\n",
              "  0.9200833439826965,\n",
              "  0.9114166498184204,\n",
              "  0.9131666421890259],\n",
              " 'val_loss': [0.20184513926506042,\n",
              "  0.2110031396150589,\n",
              "  0.20420663058757782,\n",
              "  0.2072940468788147,\n",
              "  0.2237725853919983,\n",
              "  0.22636161744594574,\n",
              "  0.22645339369773865,\n",
              "  0.23378761112689972,\n",
              "  0.2527979910373688,\n",
              "  0.25867384672164917]}"
            ]
          },
          "metadata": {
            "tags": []
          },
          "execution_count": 40
        }
      ]
    },
    {
      "cell_type": "code",
      "metadata": {
        "id": "RgRLuLgLvLMP",
        "colab_type": "code",
        "outputId": "46feb8c0-1f2a-4f7c-b690-9e4cc1dd9975",
        "colab": {
          "base_uri": "https://localhost:8080/",
          "height": 573
        }
      },
      "source": [
        "#plot training accuracy values\n",
        "plt.plot(history.history['accuracy'])\n",
        "plt.plot(history.history['val_accuracy'])\n",
        "plt.title('model accuracy')\n",
        "plt.ylabel('accuracy')\n",
        "plt.xlabel('Epoch')\n",
        "plt.legend(['Train, val'], loc = 'upper left')\n",
        "plt.show()\n",
        "\n",
        "#plot taining loss values\n",
        "plt.plot(history.history['loss'])\n",
        "plt.plot(history.history['val_loss'])\n",
        "plt.title('model loss')\n",
        "plt.ylabel('Loss')\n",
        "plt.xlabel('epoch')\n",
        "plt.legend(['Train, val'], loc = 'upper left')\n",
        "plt.show()"
      ],
      "execution_count": 0,
      "outputs": [
        {
          "output_type": "display_data",
          "data": {
            "image/png": "[encoded data removed]",
            "text/plain": [
              "<Figure size 432x288 with 1 Axes>"
            ]
          },
          "metadata": {
            "tags": [],
            "needs_background": "light"
          }
        },
        {
          "output_type": "display_data",
          "data": {
            "image/png": "[encoded data removed]",
            "text/plain": [
              "<Figure size 432x288 with 1 Axes>"
            ]
          },
          "metadata": {
            "tags": [],
            "needs_background": "light"
          }
        }
      ]
    },
    {
      "cell_type": "markdown",
      "metadata": {
        "id": "ckzcVKB8z2p-",
        "colab_type": "text"
      },
      "source": [
        "**Plot Confusing Matrix**"
      ]
    },
    {
      "cell_type": "code",
      "metadata": {
        "id": "RfFxcurHz-tl",
        "colab_type": "code",
        "colab": {}
      },
      "source": [
        "from mlxtend.plotting import plot_confusion_matrix\n",
        "from sklearn.metrics import confusion_matrix"
      ],
      "execution_count": 0,
      "outputs": []
    },
    {
      "cell_type": "code",
      "metadata": {
        "id": "-6HiPqrn0Uoz",
        "colab_type": "code",
        "colab": {}
      },
      "source": [
        "mat = confusion_matrix(y_pred, y_test)"
      ],
      "execution_count": 0,
      "outputs": []
    },
    {
      "cell_type": "code",
      "metadata": {
        "id": "Y2pr2QsX0ZpU",
        "colab_type": "code",
        "outputId": "2fb6dec0-f740-4846-c771-0801c5fdd954",
        "colab": {
          "base_uri": "https://localhost:8080/",
          "height": 541
        }
      },
      "source": [
        "#font = {'family' : \"Times New Romain\",\n",
        " #       'weight' : 'bold',\n",
        "  #      'size': 14}\n",
        "\n",
        "#matplotlib.rc('font', **font)\n",
        "plot_confusion_matrix(conf_mat=mat, figsize=(8,8), show_normed=False)"
      ],
      "execution_count": 0,
      "outputs": [
        {
          "output_type": "execute_result",
          "data": {
            "text/plain": [
              "(<Figure size 576x576 with 1 Axes>,\n",
              " <matplotlib.axes._subplots.AxesSubplot at 0x7ff9187533c8>)"
            ]
          },
          "metadata": {
            "tags": []
          },
          "execution_count": 70
        },
        {
          "output_type": "display_data",
          "data": {
            "image/png": "[encoded data removed]",
            "text/plain": [
              "<Figure size 576x576 with 1 Axes>"
            ]
          },
          "metadata": {
            "tags": [],
            "needs_background": "light"
          }
        }
      ]
    },
    {
      "cell_type": "code",
      "metadata": {
        "id": "DZ00IqQT06Y1",
        "colab_type": "code",
        "colab": {}
      },
      "source": [
        ""
      ],
      "execution_count": 0,
      "outputs": []
    }
  ]
}